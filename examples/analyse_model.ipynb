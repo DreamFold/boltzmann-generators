{
 "cells": [
  {
   "cell_type": "markdown",
   "metadata": {},
   "source": [
    "# Analyse trained models"
   ]
  },
  {
   "cell_type": "code",
   "execution_count": null,
   "metadata": {},
   "outputs": [],
   "source": [
    "# Import packages\n",
    "import torch\n",
    "import numpy as np\n",
    "\n",
    "import boltzgen as bg\n",
    "\n",
    "from matplotlib import pyplot as plt\n",
    "\n",
    "from tqdm import tqdm"
   ]
  },
  {
   "cell_type": "code",
   "execution_count": null,
   "metadata": {},
   "outputs": [],
   "source": [
    "# Specify checkpoint root\n",
    "checkpoint_root = '/draco/u/vstimper/Material_Informatics/boltzmann_generators/models/resampled_09/'"
   ]
  },
  {
   "cell_type": "code",
   "execution_count": null,
   "metadata": {},
   "outputs": [],
   "source": [
    "# Load config\n",
    "config = bg.utils.get_config(checkpoint_root + 'config/bm.yaml')"
   ]
  },
  {
   "cell_type": "code",
   "execution_count": null,
   "metadata": {},
   "outputs": [],
   "source": [
    "# Load data\n",
    "training_data = bg.utils.load_traj('/draco/u/vstimper/Material_Informatics/boltzmann_generators/data/trajectory/aldp_without_const_100000.h5')"
   ]
  },
  {
   "cell_type": "code",
   "execution_count": null,
   "metadata": {},
   "outputs": [],
   "source": [
    "# Setup model\n",
    "model = bg.BoltzmannGenerator(config)\n",
    "\n",
    "# Move model on GPU if available\n",
    "enable_cuda = False\n",
    "device = torch.device('cuda' if torch.cuda.is_available() and enable_cuda else 'cpu')\n",
    "model = model.to(device)\n",
    "model = model.double()"
   ]
  },
  {
   "cell_type": "code",
   "execution_count": null,
   "metadata": {},
   "outputs": [],
   "source": [
    "# Plot loss\n",
    "loss = np.loadtxt(checkpoint_root + 'log/loss.csv')\n",
    "plt.figure(figsize=(15, 10))\n",
    "plt.plot(loss, '.')\n",
    "plt.ylim(-210, -150)\n",
    "plt.show()"
   ]
  },
  {
   "cell_type": "code",
   "execution_count": null,
   "metadata": {},
   "outputs": [],
   "source": [
    "# Load checkpoint\n",
    "model.load(checkpoint_root + 'checkpoints/model_2420000.pt')"
   ]
  },
  {
   "cell_type": "code",
   "execution_count": null,
   "metadata": {},
   "outputs": [],
   "source": [
    "# Model to load for comparison\n",
    "checkpoint_root_ = '/draco/u/vstimper/Material_Informatics/boltzmann_generators/models/rnvp_01/'\n",
    "config_ = bg.utils.get_config(checkpoint_root_ + 'config/bm.yaml')\n",
    "model_ = bg.BoltzmannGenerator(config_)\n",
    "\n",
    "# Move model on GPU if available\n",
    "enable_cuda = False\n",
    "device = torch.device('cuda' if torch.cuda.is_available() and enable_cuda else 'cpu')\n",
    "model_ = model_.to(device)\n",
    "model_ = model_.double()\n",
    "\n",
    "model_.load(checkpoint_root_ + 'checkpoints/model_30000.pt')"
   ]
  },
  {
   "cell_type": "code",
   "execution_count": null,
   "metadata": {},
   "outputs": [],
   "source": [
    "model.eval()\n",
    "\n",
    "z_np = np.zeros((0, 60))\n",
    "x_np = np.zeros((0, 66))\n",
    "log_p_np = np.zeros((0,))\n",
    "log_q_np = np.zeros((0,))\n",
    "z__np = np.zeros((0, 60))\n",
    "x__np = np.zeros((0, 66))\n",
    "log_p__np = np.zeros((0,))\n",
    "log_q__np = np.zeros((0,))\n",
    "for i in tqdm(range(100)):\n",
    "    z, log_q = model.sample(1000)\n",
    "    x_np = np.concatenate((x_np, z.cpu().data.numpy()))\n",
    "    log_p = model.p.log_prob(z)\n",
    "    z, _ = model.flows[-1].inverse(z)\n",
    "    z_np_ = z.cpu().data.numpy()\n",
    "    log_p_np_ = log_p.cpu().data.numpy()\n",
    "    log_q_np_ = log_q.cpu().data.numpy()\n",
    "    z_np = np.concatenate((z_np, z_np_))\n",
    "    log_p_np = np.concatenate((log_p_np, log_p_np_))\n",
    "    log_q_np = np.concatenate((log_q_np, log_q_np_))\n",
    "    \n",
    "    z, log_q = model_.sample(1000)\n",
    "    x__np = np.concatenate((x__np, z.cpu().data.numpy()))\n",
    "    log_p = model_.p.log_prob(z)\n",
    "    z, _ = model_.flows[-1].inverse(z)\n",
    "    z_np_ = z.cpu().data.numpy()\n",
    "    log_p_np_ = log_p.cpu().data.numpy()\n",
    "    log_q_np_ = log_q.cpu().data.numpy()\n",
    "    z__np = np.concatenate((z__np, z_np_))\n",
    "    log_p__np = np.concatenate((log_p__np, log_p_np_))\n",
    "    log_q__np = np.concatenate((log_q__np, log_q_np_))\n",
    "\n",
    "\n",
    "z_d = training_data[::1].double().to(device)\n",
    "log_p_d = model.p.log_prob(z_d)\n",
    "log_q_d = model.log_prob(z_d)\n",
    "log_q__d = model_.log_prob(z_d)\n",
    "z_d, _ = model.flows[-1].inverse(z_d)\n",
    "z_d_np = z_d.cpu().data.numpy()\n",
    "\n",
    "log_p_d_np = log_p_d.cpu().data.numpy()\n",
    "log_q_d_np = log_q_d.cpu().data.numpy()\n",
    "log_q__d_np = log_q__d.cpu().data.numpy()"
   ]
  },
  {
   "cell_type": "code",
   "execution_count": null,
   "metadata": {},
   "outputs": [],
   "source": [
    "plt.hist(log_p_d_np, bins=100, alpha=0.5, label='data', range=[-50, 0])\n",
    "plt.hist(log_p_np, bins=100, alpha=0.5, label='snf', range=[-50, 0])\n",
    "plt.hist(log_p__np, bins=100, alpha=0.5, label='rnvp', range=[-50, 5])\n",
    "#plt.hist(log_p_mcmc_np, bins=100, alpha=0.5, label='mcmc', range=[-70, 5])\n",
    "plt.legend(loc='upper right')\n",
    "plt.show()"
   ]
  },
  {
   "cell_type": "code",
   "execution_count": null,
   "metadata": {},
   "outputs": [],
   "source": [
    "plt.hist(log_q_d_np, bins=100, alpha=0.5, label='data', range=[125, 225])\n",
    "plt.hist(log_q_np, bins=100, alpha=0.5, label='snf', range=[125, 225])\n",
    "plt.legend(loc='upper right')\n",
    "plt.show()"
   ]
  },
  {
   "cell_type": "code",
   "execution_count": null,
   "metadata": {},
   "outputs": [],
   "source": [
    "plt.hist(log_q__d_np, bins=100, alpha=0.5, label='data', range=[145, 205])\n",
    "plt.hist(log_q__np, bins=100, alpha=0.5, label='rnvp', range=[145, 205])\n",
    "plt.legend(loc='upper right')\n",
    "plt.show()"
   ]
  },
  {
   "cell_type": "code",
   "execution_count": null,
   "metadata": {},
   "outputs": [],
   "source": [
    "plt.hist(log_p_d_np - log_q__d_np, bins=100, alpha=0.5, label='data', range=[-215, -175])\n",
    "plt.hist(log_p__np - log_q__np, bins=100, alpha=0.5, label='rnvp', range=[-215, -175])\n",
    "plt.legend(loc='upper right')\n",
    "plt.show()"
   ]
  },
  {
   "cell_type": "code",
   "execution_count": null,
   "metadata": {},
   "outputs": [],
   "source": [
    "log_w_d = log_p_d_np - log_q__d_np\n",
    "log_w = log_p__np - log_q__np\n",
    "w_d = np.exp(log_w_d - np.max(log_w_d))\n",
    "w = np.exp(log_w - np.max(log_w))\n",
    "plt.hist(w_d, bins=100, alpha=0.5, label='data', range=[0, 1])\n",
    "plt.show()\n",
    "#plt.plot(log_p__np, log_q__np, '.')"
   ]
  },
  {
   "cell_type": "code",
   "execution_count": null,
   "metadata": {
    "scrolled": false
   },
   "outputs": [],
   "source": [
    "for i in range(60):\n",
    "    print(i)\n",
    "    plt.hist(z_d_np[:, i], bins=200, alpha=1, label='data', histtype='step', linewidth=2, range=[-5, 5])\n",
    "    plt.hist(z_np[:, i], bins=200, alpha=1, label='snf', histtype='step', linewidth=2, range=[-5, 5])\n",
    "    plt.hist(z__np[:, i], bins=200, alpha=1, label='rnvp', histtype='step', linewidth=2, range=[-5, 5])\n",
    "    #plt.hist(z_mcmc_np[:, i], bins=100, alpha=0.5, label='mcmc', range=[-3.1, 3.1])\n",
    "    plt.legend(loc='upper right')\n",
    "    #plt.savefig('/draco/u/vstimper/Material_Informatics/boltzmann_generators/plots/rnvp03_snf12/marginal_%02i.png' % i,\n",
    "    #            dpi=300)\n",
    "    plt.show()"
   ]
  },
  {
   "cell_type": "code",
   "execution_count": null,
   "metadata": {},
   "outputs": [],
   "source": [
    "import mdtraj\n",
    "Z_indices = np.array([[4, 6, 8, 14],\n",
    "                      [11, 10, 8, 6],\n",
    "                      [16, 14, 8, 6],\n",
    "                      [1, 4, 6, 8],\n",
    "                      [5, 4, 6, 8],\n",
    "                      [7, 6, 8, 4],\n",
    "                      [12, 10, 8, 4],\n",
    "                      [13, 10, 8, 11],\n",
    "                      [15, 14, 8, 16],\n",
    "                      [18, 16, 14, 8],\n",
    "                      [0, 1, 4, 6],\n",
    "                      [17, 16, 14, 15], \n",
    "                      [19, 18, 16, 14],\n",
    "                      [2, 1, 4, 0],\n",
    "                      [3, 1, 4, 0],\n",
    "                      [20, 18, 16, 19],\n",
    "                      [21, 18, 16, 19]])\n",
    "\n",
    "training_data_traj = mdtraj.load('/draco/u/vstimper/Material_Informatics/boltzmann_generators/data/trajectory/aldp_without_const_100000.h5')\n",
    "torsions_train = mdtraj.compute_dihedrals(training_data_traj, Z_indices)\n",
    "\n",
    "#ala2_pdb = mdtraj.load('../../snf_noe/data/alanine-dipeptide.pdb').topology\n",
    "#training_data_traj = mdtraj.load('../../snf_noe/data/ala2_1000K_train.xtc', top=ala2_pdb)\n",
    "#torsions_gen = mdtraj.compute_dihedrals(training_data_traj, Z_indices)\n",
    "\n",
    "ala2_pdb = mdtraj.load('../../snf_noe/data/alanine-dipeptide.pdb').topology\n",
    "gen_data_traj = mdtraj.Trajectory(x_np.reshape(-1, 22, 3), ala2_pdb)\n",
    "torsions_gen = mdtraj.compute_dihedrals(gen_data_traj, Z_indices)\n",
    "\n",
    "ala2_pdb = mdtraj.load('../../snf_noe/data/alanine-dipeptide.pdb').topology\n",
    "gen_data_traj_ = mdtraj.Trajectory(x__np.reshape(-1, 22, 3), ala2_pdb)\n",
    "torsions_gen_ = mdtraj.compute_dihedrals(gen_data_traj_, Z_indices)"
   ]
  },
  {
   "cell_type": "code",
   "execution_count": null,
   "metadata": {},
   "outputs": [],
   "source": [
    "def periodic_convolution(x, kernel):\n",
    "    x_padded = np.concatenate([x, x, x])\n",
    "    y_padded = np.convolve(x_padded, kernel, mode='same')\n",
    "    return y_padded[x.size:-x.size]"
   ]
  },
  {
   "cell_type": "code",
   "execution_count": null,
   "metadata": {},
   "outputs": [],
   "source": [
    "torsion_hists_train = []\n",
    "torsion_hists_gen = []\n",
    "torsion_hists_gen_ = []\n",
    "xticks = None\n",
    "\n",
    "for i in range(torsions_train.shape[1]):\n",
    "    htrain, e = np.histogram(torsions_train[:, i], 50, range=(-np.pi, np.pi), density=True);\n",
    "    xticks = 0.5 * (e[1:] + e[:-1])\n",
    "    hgen, _ = np.histogram(torsions_gen[:, i], 50, range=(-np.pi, np.pi), density=True);\n",
    "    hgen_, _ = np.histogram(torsions_gen_[:, i], 50, range=(-np.pi, np.pi), density=True);\n",
    "    \n",
    "    htrain = periodic_convolution(htrain, [0.25, 0.5, 1.0, 0.5, 0.25])\n",
    "    hgen = periodic_convolution(hgen, [0.25, 0.5, 1.0, 0.5, 0.25])\n",
    "    hgen_ = periodic_convolution(hgen_, [0.25, 0.5, 1.0, 0.5, 0.25])\n",
    "    \n",
    "    torsion_hists_train.append(htrain)\n",
    "    torsion_hists_gen.append(hgen)\n",
    "    torsion_hists_gen_.append(hgen_)"
   ]
  },
  {
   "cell_type": "code",
   "execution_count": null,
   "metadata": {},
   "outputs": [],
   "source": [
    "torsions_simple = [4, 5, 6, 7, 8]\n",
    "torsions_complex = [0, 1, 2, 10, 12]"
   ]
  },
  {
   "cell_type": "code",
   "execution_count": null,
   "metadata": {},
   "outputs": [],
   "source": [
    "#fig, axes = plt.subplots(nrows=2, ncols=5, sharex=True, figsize=(15, 5))\n",
    "fig, axes = plt.subplots(nrows=1, ncols=5, sharey=True, sharex=True, figsize=(15, 3))\n",
    "axes = axes.reshape((1, 5))\n",
    "fig.subplots_adjust(hspace=0.05, wspace=0.15)\n",
    "#for row, torsion_index in zip([0, 1], [torsions_simple, torsions_complex]):\n",
    "for row, torsion_index in zip([0], [torsions_complex]):\n",
    "    for i, ax in enumerate(axes[row]):\n",
    "        ax.plot(xticks, torsion_hists_train[torsion_index[i]], color='grey', linewidth=5)\n",
    "        ax.plot(xticks, torsion_hists_gen[torsion_index[i]], color='red', linewidth=3)\n",
    "        ax.plot(xticks, torsion_hists_gen_[torsion_index[i]], color='blue', linewidth=3)\n",
    "        ax.set_yticks([])\n",
    "        ax.set_xlim(-np.pi, np.pi)\n",
    "        if row == 0:\n",
    "            ax.set_ylim(0, 5)\n",
    "        if row == 1:\n",
    "            ax.set_ylim(0, 1.5)\n",
    "        if row == 1:\n",
    "            ax.set_xticks((-np.pi,0, np.pi))\n",
    "            ax.set_xticklabels(('$-\\pi$', 0,'$\\pi$'))\n",
    "    axes[-1,-1].set_yticks([])\n",
    "axes[0, 0].set_ylim(0, 1.5)\n",
    "axes[0, 0].text(0, 1.35, '$\\phi$')\n",
    "axes[0, 1].text(0, 1.35, '$\\gamma_1$')\n",
    "axes[0, 2].text(0, 1.35, '$\\psi$')\n",
    "axes[0, 3].text(0, 1.35, '$\\gamma_2$')\n",
    "axes[0, 4].text(0, 1.35, '$\\gamma_3$')\n",
    "axes[0, 0].set_ylabel('density')\n",
    "#axes[1, 0].set_ylabel('density')\n",
    "axes[0, -1].text(-np.pi+1, 1.1, 'Target', color='grey')\n",
    "axes[0, -1].text(-np.pi+1, 0.95, 'RNVP', color='blue')\n",
    "axes[0, -1].text(-np.pi+1, 0.8, 'RNVP + MCMC', color='red')\n",
    "plt.savefig('torsion_angles.png', dpi=300)"
   ]
  },
  {
   "cell_type": "code",
   "execution_count": null,
   "metadata": {},
   "outputs": [],
   "source": [
    "eps = 1e-5\n",
    "for i in torsions_complex:\n",
    "    KL_NF = np.sum(torsion_hists_train[i] * np.log((torsion_hists_train[i]+eps) / (torsion_hists_gen[i]+eps)))\n",
    "    print(\"{:1.2f}\".format(KL_NF))"
   ]
  }
 ],
 "metadata": {
  "kernelspec": {
   "display_name": "Python 3",
   "language": "python",
   "name": "python3"
  },
  "language_info": {
   "codemirror_mode": {
    "name": "ipython",
    "version": 3
   },
   "file_extension": ".py",
   "mimetype": "text/x-python",
   "name": "python",
   "nbconvert_exporter": "python",
   "pygments_lexer": "ipython3",
   "version": "3.7.3"
  }
 },
 "nbformat": 4,
 "nbformat_minor": 4
}
