{
 "cells": [
  {
   "cell_type": "markdown",
   "metadata": {},
   "source": [
    "# Analyse trained models"
   ]
  },
  {
   "cell_type": "code",
   "execution_count": null,
   "metadata": {},
   "outputs": [],
   "source": [
    "# Import packages\n",
    "import torch\n",
    "import numpy as np\n",
    "\n",
    "import boltzgen as bg\n",
    "\n",
    "from matplotlib import pyplot as plt"
   ]
  },
  {
   "cell_type": "code",
   "execution_count": null,
   "metadata": {},
   "outputs": [],
   "source": [
    "# Specify checkpoint root\n",
    "checkpoint_root = '/scratch2/vs488/flow/alanine_dipeptide/models/snf_01/'"
   ]
  },
  {
   "cell_type": "code",
   "execution_count": null,
   "metadata": {},
   "outputs": [],
   "source": [
    "# Load config\n",
    "config = bg.utils.get_config(checkpoint_root + 'config/bm.yaml')"
   ]
  },
  {
   "cell_type": "code",
   "execution_count": null,
   "metadata": {},
   "outputs": [],
   "source": [
    "# Load data\n",
    "training_data = bg.utils.load_traj('/scratch2/vs488/flow/alanine_dipeptide/trajectory/aldp100000.h5')"
   ]
  },
  {
   "cell_type": "code",
   "execution_count": null,
   "metadata": {},
   "outputs": [],
   "source": [
    "# Setup model\n",
    "model = bg.BoltzmannGenerator(config)\n",
    "\n",
    "# Move model on GPU if available\n",
    "enable_cuda = True\n",
    "device = torch.device('cuda' if torch.cuda.is_available() and enable_cuda else 'cpu')\n",
    "model = model.to(device)\n",
    "model = model.double()"
   ]
  },
  {
   "cell_type": "code",
   "execution_count": null,
   "metadata": {},
   "outputs": [],
   "source": [
    "# Plot loss\n",
    "loss = np.loadtxt(checkpoint_root + 'log/loss.csv')\n",
    "plt.figure(figsize=(15, 10))\n",
    "plt.plot(loss)\n",
    "plt.ylim(-310, -290)\n",
    "plt.show()"
   ]
  },
  {
   "cell_type": "code",
   "execution_count": null,
   "metadata": {},
   "outputs": [],
   "source": [
    "# Load checkpoint\n",
    "model.load(checkpoint_root + 'checkpoints/bm_snf_model_04500.pt')"
   ]
  },
  {
   "cell_type": "code",
   "execution_count": null,
   "metadata": {},
   "outputs": [],
   "source": [
    "import normflow as nf\n",
    "dist = bg.distributions.TransformedBoltzmann(model.sim.context, 1000, energy_cut=1e10,\n",
    "                                             energy_max=1e20, transform=model.flows[-1])\n",
    "proposal = nf.distributions.DiagGaussianProposal((60,), 0.1 * np.ones(60))\n",
    "mcmc = nf.flows.MetropolisHastings(dist, proposal, 100)\n",
    "mcmc = mcmc.double().to('cuda')"
   ]
  },
  {
   "cell_type": "code",
   "execution_count": null,
   "metadata": {},
   "outputs": [],
   "source": [
    "model.eval()\n",
    "\n",
    "z_np = np.zeros((0, 60))\n",
    "log_p_np = np.zeros((0,))\n",
    "log_p_t_np = np.zeros((0,))\n",
    "log_q_np = np.zeros((0,))\n",
    "z_mcmc_np = np.zeros((0, 60))\n",
    "log_p_mcmc_np = np.zeros((0,))\n",
    "log_p_t_mcmc_np = np.zeros((0,))\n",
    "for i in range(5):\n",
    "    z, log_q = model.sample(1000)\n",
    "    log_p = model.p.log_prob(z)\n",
    "    z, _ = model.flows[-1].inverse(z)\n",
    "    log_p_t = mcmc.dist.log_prob(z)\n",
    "    z_np_ = z.cpu().data.numpy()\n",
    "    log_p_np_ = log_p.cpu().data.numpy()\n",
    "    log_p_t_np_ = log_p_t.cpu().data.numpy()\n",
    "    log_q_np_ = log_q.cpu().data.numpy()\n",
    "    z_np = np.concatenate((z_np, z_np_))\n",
    "    log_p_np = np.concatenate((log_p_np, log_p_np_))\n",
    "    log_p_t_np = np.concatenate((log_p_t_np, log_p_t_np_))\n",
    "    log_q_np = np.concatenate((log_q_np, log_q_np_))\n",
    "\n",
    "    z, _ = mcmc(z)\n",
    "    z_mcmc_np_ = z.cpu().data.numpy()\n",
    "    log_p_t = mcmc.dist.log_prob(z)\n",
    "    z, _ = model.flows[-1](z)\n",
    "    log_p = model.p.log_prob(z)\n",
    "    log_p_mcmc_np_ = log_p.cpu().data.numpy()\n",
    "    log_p_t_mcmc_np_ = log_p_t.cpu().data.numpy()\n",
    "    z_mcmc_np = np.concatenate((z_mcmc_np, z_mcmc_np_))\n",
    "    log_p_mcmc_np = np.concatenate((log_p_mcmc_np, log_p_mcmc_np_))\n",
    "    log_p_t_mcmc_np = np.concatenate((log_p_t_mcmc_np, log_p_t_mcmc_np_))\n",
    "\n",
    "\n",
    "z_d = training_data[::20].double().to(device)\n",
    "log_p_d = model.p.log_prob(z_d)\n",
    "z_d, _ = model.flows[-1].inverse(z_d)\n",
    "log_p_t_d =  mcmc.dist.log_prob(z_d)\n",
    "z_d_np = z_d.cpu().data.numpy()\n",
    "\n",
    "log_p_d_np = log_p_d.cpu().data.numpy()\n",
    "log_p_t_d_np = log_p_t_d.cpu().data.numpy()"
   ]
  },
  {
   "cell_type": "code",
   "execution_count": null,
   "metadata": {},
   "outputs": [],
   "source": [
    "plt.hist(log_p_d_np, bins=100, alpha=0.5, label='data', range=[-70, 5])\n",
    "plt.hist(log_p_np, bins=100, alpha=0.5, label='samples', range=[-70, 5])\n",
    "plt.hist(log_p_mcmc_np, bins=100, alpha=0.5, label='mcmc', range=[-70, 5])\n",
    "plt.legend(loc='upper right')\n",
    "plt.show()"
   ]
  },
  {
   "cell_type": "code",
   "execution_count": null,
   "metadata": {},
   "outputs": [],
   "source": [
    "plt.hist(log_p_t_d_np, bins=100, alpha=0.5, label='data', range=[-450, -360])\n",
    "plt.hist(log_p_t_np, bins=100, alpha=0.5, label='samples', range=[-450, -360])\n",
    "plt.hist(log_p_t_mcmc_np, bins=100, alpha=0.5, label='mcmc', range=[-450, -360])\n",
    "plt.legend(loc='upper right')\n",
    "plt.show()"
   ]
  },
  {
   "cell_type": "code",
   "execution_count": null,
   "metadata": {
    "scrolled": false
   },
   "outputs": [],
   "source": [
    "for i in range(60):\n",
    "    print(i)\n",
    "    plt.hist(z_d_np[:, i], bins=100, alpha=0.5, label='data', range=[-3.1, 3.1])\n",
    "    plt.hist(z_np[:, i], bins=100, alpha=0.5, label='samples', range=[-3.1, 3.1])\n",
    "    plt.hist(z_mcmc_np[:, i], bins=100, alpha=0.5, label='mcmc', range=[-3.1, 3.1])\n",
    "    plt.legend(loc='upper right')\n",
    "    plt.show()"
   ]
  },
  {
   "cell_type": "code",
   "execution_count": null,
   "metadata": {},
   "outputs": [],
   "source": []
  }
 ],
 "metadata": {
  "kernelspec": {
   "display_name": "Python 3",
   "language": "python",
   "name": "python3"
  },
  "language_info": {
   "codemirror_mode": {
    "name": "ipython",
    "version": 3
   },
   "file_extension": ".py",
   "mimetype": "text/x-python",
   "name": "python",
   "nbconvert_exporter": "python",
   "pygments_lexer": "ipython3",
   "version": "3.6.10"
  }
 },
 "nbformat": 4,
 "nbformat_minor": 4
}
