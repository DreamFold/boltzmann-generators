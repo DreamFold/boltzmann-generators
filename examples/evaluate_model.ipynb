{
 "cells": [
  {
   "cell_type": "markdown",
   "metadata": {},
   "source": [
    "# KL divergence and KSD of model"
   ]
  },
  {
   "cell_type": "code",
   "execution_count": 1,
   "metadata": {},
   "outputs": [],
   "source": [
    "# Import packages\n",
    "import torch\n",
    "import numpy as np\n",
    "from scipy import stats\n",
    "\n",
    "import boltzgen as bg\n",
    "\n",
    "from matplotlib import pyplot as plt\n",
    "\n",
    "from tqdm import tqdm"
   ]
  },
  {
   "cell_type": "code",
   "execution_count": 2,
   "metadata": {},
   "outputs": [],
   "source": [
    "# Specify checkpoint root\n",
    "checkpoint_root = '/draco/u/vstimper/Material_Informatics/boltzmann_generators/models/mcmc_01/'"
   ]
  },
  {
   "cell_type": "code",
   "execution_count": 3,
   "metadata": {},
   "outputs": [],
   "source": [
    "# Load config\n",
    "config = bg.utils.get_config(checkpoint_root + 'config/bm.yaml')"
   ]
  },
  {
   "cell_type": "code",
   "execution_count": 4,
   "metadata": {},
   "outputs": [],
   "source": [
    "# Load data\n",
    "training_data = bg.utils.load_traj('/draco/u/vstimper/Material_Informatics/boltzmann_generators/data/trajectory/aldp_without_const_100000.h5')"
   ]
  },
  {
   "cell_type": "code",
   "execution_count": 5,
   "metadata": {},
   "outputs": [],
   "source": [
    "# Setup model\n",
    "model = bg.BoltzmannGenerator(config)\n",
    "\n",
    "# Move model on GPU if available\n",
    "enable_cuda = False\n",
    "device = torch.device('cuda' if torch.cuda.is_available() and enable_cuda else 'cpu')\n",
    "model = model.to(device)\n",
    "model = model.double()"
   ]
  },
  {
   "cell_type": "code",
   "execution_count": null,
   "metadata": {},
   "outputs": [],
   "source": [
    "# Plot loss\n",
    "loss = np.loadtxt(checkpoint_root + 'log/loss.csv')\n",
    "plt.figure(figsize=(15, 10))\n",
    "plt.plot(loss, '.')\n",
    "plt.ylim(-190, -160)\n",
    "plt.show()"
   ]
  },
  {
   "cell_type": "code",
   "execution_count": null,
   "metadata": {},
   "outputs": [],
   "source": [
    "# Load checkpoint\n",
    "model.load(checkpoint_root + 'checkpoints/model_30000.pt')"
   ]
  },
  {
   "cell_type": "code",
   "execution_count": null,
   "metadata": {},
   "outputs": [],
   "source": [
    "# Draw samples\n",
    "\n",
    "nth = 1\n",
    "\n",
    "model.eval()\n",
    "\n",
    "z_np = np.zeros((0, 60))\n",
    "x_np = np.zeros((0, 66))\n",
    "log_p_np = np.zeros((0,))\n",
    "log_q_np = np.zeros((0,))\n",
    "\n",
    "for i in tqdm(range(100 // nth)):\n",
    "    z, log_q = model.sample(1000)\n",
    "    x_np = np.concatenate((x_np, z.cpu().data.numpy()))\n",
    "    log_p = model.p.log_prob(z)\n",
    "    z, _ = model.flows[-1].inverse(z)\n",
    "    z_np_ = z.cpu().data.numpy()\n",
    "    log_p_np_ = log_p.cpu().data.numpy()\n",
    "    log_q_np_ = log_q.cpu().data.numpy()\n",
    "    z_np = np.concatenate((z_np, z_np_))\n",
    "    log_p_np = np.concatenate((log_p_np, log_p_np_))\n",
    "    log_q_np = np.concatenate((log_q_np, log_q_np_))\n",
    "\n",
    "\n",
    "z_d = training_data[::nth].double().to(device)\n",
    "log_p_d = model.p.log_prob(z_d)\n",
    "z_d, _ = model.flows[-1].inverse(z_d)\n",
    "z_d_np = z_d.cpu().data.numpy()\n",
    "\n",
    "log_p_d_np = log_p_d.cpu().data.numpy()"
   ]
  },
  {
   "cell_type": "markdown",
   "metadata": {},
   "source": [
    "## Use histogram to compute KLD"
   ]
  },
  {
   "cell_type": "code",
   "execution_count": null,
   "metadata": {},
   "outputs": [],
   "source": [
    "# Estimate density\n",
    "nbins = 200\n",
    "hist_range = [-5, 5]\n",
    "ndims = z_np.shape[1]\n",
    "\n",
    "hists_train = np.zeros((nbins, ndims))\n",
    "hists_gen = np.zeros((nbins, ndims))\n",
    "\n",
    "for i in range(ndims):\n",
    "    htrain, _ = np.histogram(z_d_np[:, i], nbins, range=hist_range, density=True);\n",
    "    hgen, _ = np.histogram(z_np[:, i], nbins, range=hist_range, density=True);\n",
    "    \n",
    "    hists_train[:, i] = htrain\n",
    "    hists_gen[:, i] = hgen"
   ]
  },
  {
   "cell_type": "code",
   "execution_count": null,
   "metadata": {
    "scrolled": true
   },
   "outputs": [],
   "source": [
    "for i in range(ndims):\n",
    "    print(i)\n",
    "    plt.plot(np.linspace(-5, 5, nbins), hists_train[:, i])\n",
    "    plt.plot(np.linspace(-5, 5, nbins), hists_gen[:, i])\n",
    "    plt.show()"
   ]
  },
  {
   "cell_type": "code",
   "execution_count": null,
   "metadata": {},
   "outputs": [],
   "source": [
    "# Compute KLD\n",
    "kld = np.zeros(ndims)\n",
    "eps = 1e-10\n",
    "kld_unscaled = np.sum(hists_train * np.log((hists_train + eps) / (hists_gen + eps)), axis=0)\n",
    "kld = kld_unscaled * (hist_range[1] - hist_range[0]) / nbins"
   ]
  },
  {
   "cell_type": "code",
   "execution_count": null,
   "metadata": {},
   "outputs": [],
   "source": [
    "# Split KLD into groups\n",
    "ncarts = model.flows[-1].mixed_transform.len_cart_inds\n",
    "permute_inv = model.flows[-1].mixed_transform.permute_inv\n",
    "bond_ind = model.flows[-1].mixed_transform.ic_transform.bond_indices\n",
    "angle_ind = model.flows[-1].mixed_transform.ic_transform.angle_indices\n",
    "dih_ind = model.flows[-1].mixed_transform.ic_transform.dih_indices\n",
    "\n",
    "kld_cart = kld[:(3 * ncarts - 6)]\n",
    "kld_ = np.concatenate([kld[:(3 * ncarts - 6)], np.zeros(6), kld[(3 * ncarts - 6):]])\n",
    "kld_ = kld_[permute_inv]\n",
    "kld_bond = kld_[bond_ind]\n",
    "kld_angle = kld_[angle_ind]\n",
    "kld_dih = kld_[dih_ind]"
   ]
  },
  {
   "cell_type": "code",
   "execution_count": null,
   "metadata": {},
   "outputs": [],
   "source": [
    "# Print resulting KLDs\n",
    "print('Cartesian coorinates')\n",
    "print(np.sort(kld_cart))\n",
    "print('Mean:', np.mean(kld_cart))\n",
    "print('Median:', np.median(kld_cart))\n",
    "\n",
    "print('\\n\\nBond lengths')\n",
    "print(np.sort(kld_bond))\n",
    "print('Mean:', np.mean(kld_bond))\n",
    "print('Median:', np.median(kld_bond))\n",
    "\n",
    "print('\\n\\nBond angles')\n",
    "print(np.sort(kld_angle))\n",
    "print('Mean:', np.mean(kld_angle))\n",
    "print('Median:', np.median(kld_angle))\n",
    "\n",
    "print('\\n\\nDihedral angles')\n",
    "print(np.sort(kld_dih))\n",
    "print('Mean:', np.mean(kld_dih))\n",
    "print('Median:', np.median(kld_dih))"
   ]
  },
  {
   "cell_type": "code",
   "execution_count": null,
   "metadata": {
    "scrolled": false
   },
   "outputs": [],
   "source": [
    "# Histograms of the groups\n",
    "hists_train_cart = hists_train[:, :(3 * ncarts - 6)]\n",
    "hists_train_ = np.concatenate([hists_train[:, :(3 * ncarts - 6)], np.zeros((nbins, 6)),\n",
    "                               hists_train[:, (3 * ncarts - 6):]], axis=1)\n",
    "hists_train_ = hists_train_[:, permute_inv]\n",
    "hists_train_bond = hists_train_[:, bond_ind]\n",
    "hists_train_angle = hists_train_[:, angle_ind]\n",
    "hists_train_dih = hists_train_[:, dih_ind]\n",
    "\n",
    "for hists in [hists_train_cart, hists_train_bond, hists_train_angle, hists_train_dih]:\n",
    "    for i in range(hists.shape[1]):\n",
    "        print(i)\n",
    "        plt.plot(np.linspace(-5, 5, nbins), hists[:, i])\n",
    "        plt.show()"
   ]
  },
  {
   "cell_type": "markdown",
   "metadata": {},
   "source": [
    "## Use Gaussian KDE to compute KLD"
   ]
  },
  {
   "cell_type": "code",
   "execution_count": null,
   "metadata": {},
   "outputs": [],
   "source": [
    "# Estimate density\n",
    "ndims = z_np.shape[1]\n",
    "\n",
    "kde_train = []\n",
    "kde_gen = []\n",
    "\n",
    "for i in range(ndims):\n",
    "    kernel_train = stats.gaussian_kde(z_d_np[:, i])\n",
    "    kernel_gen = stats.gaussian_kde(z_np[:, i])\n",
    "    \n",
    "    kde_train.append(kernel_train)\n",
    "    kde_gen.append(kernel_gen)"
   ]
  },
  {
   "cell_type": "code",
   "execution_count": null,
   "metadata": {
    "scrolled": true
   },
   "outputs": [],
   "source": [
    "x = np.linspace(-5, 5, 200)\n",
    "for i in range(ndims):\n",
    "    print(i)\n",
    "    plt.plot(x, kde_train[i].pdf(x))\n",
    "    plt.plot(x, kde_gen[i].pdf(x))\n",
    "    plt.show()"
   ]
  },
  {
   "cell_type": "code",
   "execution_count": null,
   "metadata": {},
   "outputs": [],
   "source": [
    "# Compute KLD\n",
    "eps = 1e-10\n",
    "int_range = [-5, 5]\n",
    "npoints = 1000\n",
    "\n",
    "kld = np.zeros(ndims)\n",
    "x = np.linspace(int_range[0], int_range[1], npoints)\n",
    "\n",
    "for i in tqdm(range(ndims)):\n",
    "    kld_unscaled = np.sum(kde_train[i].pdf(x) * np.log((kde_train[i].pdf(x) + eps) / (kde_gen[i].pdf(x) + eps)))\n",
    "    kld[i] = kld_unscaled * (int_range[1] - int_range[0]) / npoints"
   ]
  },
  {
   "cell_type": "code",
   "execution_count": null,
   "metadata": {},
   "outputs": [],
   "source": [
    "# Split KLD into groups\n",
    "ncarts = model.flows[-1].mixed_transform.len_cart_inds\n",
    "permute_inv = model.flows[-1].mixed_transform.permute_inv\n",
    "bond_ind = model.flows[-1].mixed_transform.ic_transform.bond_indices\n",
    "angle_ind = model.flows[-1].mixed_transform.ic_transform.angle_indices\n",
    "dih_ind = model.flows[-1].mixed_transform.ic_transform.dih_indices\n",
    "\n",
    "kld_cart = kld[:(3 * ncarts - 6)]\n",
    "kld_ = np.concatenate([kld[:(3 * ncarts - 6)], np.zeros(6), kld[(3 * ncarts - 6):]])\n",
    "kld_ = kld_[permute_inv]\n",
    "kld_bond = kld_[bond_ind]\n",
    "kld_angle = kld_[angle_ind]\n",
    "kld_dih = kld_[dih_ind]"
   ]
  },
  {
   "cell_type": "code",
   "execution_count": null,
   "metadata": {},
   "outputs": [],
   "source": [
    "# Print resulting KLDs\n",
    "print('Cartesian coorinates')\n",
    "print(np.sort(kld_cart))\n",
    "print('Mean:', np.mean(kld_cart))\n",
    "print('Median:', np.median(kld_cart))\n",
    "\n",
    "print('\\n\\nBond lengths')\n",
    "print(np.sort(kld_bond))\n",
    "print('Mean:', np.mean(kld_bond))\n",
    "print('Median:', np.median(kld_bond))\n",
    "\n",
    "print('\\n\\nBond angles')\n",
    "print(np.sort(kld_angle))\n",
    "print('Mean:', np.mean(kld_angle))\n",
    "print('Median:', np.median(kld_angle))\n",
    "\n",
    "print('\\n\\nDihedral angles')\n",
    "print(np.sort(kld_dih))\n",
    "print('Mean:', np.mean(kld_dih))\n",
    "print('Median:', np.median(kld_dih))"
   ]
  },
  {
   "cell_type": "markdown",
   "metadata": {},
   "source": [
    "## Compute KSD"
   ]
  },
  {
   "cell_type": "code",
   "execution_count": 6,
   "metadata": {},
   "outputs": [],
   "source": [
    "p = bg.distributions.TransformedBoltzmannParallel(model.system, config['system']['temperature'],\n",
    "                                                  energy_cut=config['system']['energy_cut'],\n",
    "                                                  energy_max=config['system']['energy_max'],\n",
    "                                                  transform=model.flows[-1], n_threads=config['system']['n_threads'])"
   ]
  },
  {
   "cell_type": "code",
   "execution_count": 7,
   "metadata": {},
   "outputs": [
    {
     "name": "stderr",
     "output_type": "stream",
     "text": [
      "100%|██████████| 1000/1000 [2:03:22<00:00,  7.48s/it] \n"
     ]
    }
   ],
   "source": [
    "# Draw samples\n",
    "\n",
    "num_samples = 1000000\n",
    "batch_size = 1000\n",
    "\n",
    "model.eval()\n",
    "\n",
    "z_np = np.zeros((0, 60))\n",
    "x_np = np.zeros((0, 66))\n",
    "log_p_np = np.zeros((0,))\n",
    "grad_log_p_np = np.zeros((0, 60))\n",
    "\n",
    "for i in tqdm(range(num_samples // batch_size)):\n",
    "    z, log_q = model.sample(batch_size)\n",
    "    x_np = np.concatenate((x_np, z.cpu().data.numpy()))\n",
    "    z, _ = model.flows[-1].inverse(z)\n",
    "    z_ = z.detach().requires_grad_()\n",
    "    log_p = p.log_prob(z_)\n",
    "    grad_log_p = torch.autograd.grad(log_p, z_, grad_outputs=torch.ones_like(log_p))[0]\n",
    "    z_np_ = z.cpu().data.numpy()\n",
    "    log_p_np_ = log_p.cpu().data.numpy()\n",
    "    grad_log_p_np_ = grad_log_p.cpu().data.numpy()\n",
    "    z_np = np.concatenate((z_np, z_np_))\n",
    "    log_p_np = np.concatenate((log_p_np, log_p_np_))\n",
    "    grad_log_p_np = np.concatenate((grad_log_p_np, grad_log_p_np_))   "
   ]
  },
  {
   "cell_type": "code",
   "execution_count": 8,
   "metadata": {},
   "outputs": [
    {
     "name": "stderr",
     "output_type": "stream",
     "text": [
      " 10%|█         | 1/10 [14:27<2:10:10, 867.80s/it]"
     ]
    },
    {
     "name": "stdout",
     "output_type": "stream",
     "text": [
      "0.00026107545515511704\n"
     ]
    },
    {
     "name": "stderr",
     "output_type": "stream",
     "text": [
      "\r",
      " 20%|██        | 2/10 [29:54<1:58:04, 885.60s/it]"
     ]
    },
    {
     "name": "stdout",
     "output_type": "stream",
     "text": [
      "0.00026032295366813703\n"
     ]
    },
    {
     "name": "stderr",
     "output_type": "stream",
     "text": [
      "\r",
      " 30%|███       | 3/10 [46:49<1:47:49, 924.20s/it]"
     ]
    },
    {
     "name": "stdout",
     "output_type": "stream",
     "text": [
      "0.0002678105028262927\n"
     ]
    },
    {
     "name": "stderr",
     "output_type": "stream",
     "text": [
      "\r",
      " 40%|████      | 4/10 [1:03:17<1:34:20, 943.40s/it]"
     ]
    },
    {
     "name": "stdout",
     "output_type": "stream",
     "text": [
      "0.00025900611968465226\n"
     ]
    },
    {
     "name": "stderr",
     "output_type": "stream",
     "text": [
      "\r",
      " 50%|█████     | 5/10 [1:19:41<1:19:38, 955.76s/it]"
     ]
    },
    {
     "name": "stdout",
     "output_type": "stream",
     "text": [
      "0.00027220019281640315\n"
     ]
    },
    {
     "name": "stderr",
     "output_type": "stream",
     "text": [
      "\r",
      " 60%|██████    | 6/10 [1:35:15<1:03:15, 948.97s/it]"
     ]
    },
    {
     "name": "stdout",
     "output_type": "stream",
     "text": [
      "0.0002710331891520657\n"
     ]
    },
    {
     "name": "stderr",
     "output_type": "stream",
     "text": [
      "\r",
      " 70%|███████   | 7/10 [1:51:38<47:57, 959.26s/it]  "
     ]
    },
    {
     "name": "stdout",
     "output_type": "stream",
     "text": [
      "0.000262497762161073\n"
     ]
    },
    {
     "name": "stderr",
     "output_type": "stream",
     "text": [
      "\r",
      " 80%|████████  | 8/10 [2:06:57<31:34, 947.19s/it]"
     ]
    },
    {
     "name": "stdout",
     "output_type": "stream",
     "text": [
      "0.0002571419561923477\n"
     ]
    },
    {
     "name": "stderr",
     "output_type": "stream",
     "text": [
      "\r",
      " 90%|█████████ | 9/10 [2:23:45<16:05, 965.60s/it]"
     ]
    },
    {
     "name": "stdout",
     "output_type": "stream",
     "text": [
      "0.0002681792371684422\n"
     ]
    },
    {
     "name": "stderr",
     "output_type": "stream",
     "text": [
      "\r",
      "100%|██████████| 10/10 [2:39:20<00:00, 956.34s/it]"
     ]
    },
    {
     "name": "stdout",
     "output_type": "stream",
     "text": [
      "0.00026969471304943196\n"
     ]
    },
    {
     "name": "stderr",
     "output_type": "stream",
     "text": [
      "\n"
     ]
    }
   ],
   "source": [
    "# Calculate KSD\n",
    "num_sub = 10\n",
    "\n",
    "sub_length = num_samples // num_sub\n",
    "median = bg.utils.get_median_estimate(z_np, 10000)\n",
    "h_square = 0.5 * median / np.log(sub_length)\n",
    "\n",
    "ksd = []\n",
    "\n",
    "for i in tqdm(range(num_sub)):\n",
    "    ksd_ = bg.utils.blockKSD(z_np[(sub_length * i):(sub_length * (i + 1))],\n",
    "                             grad_log_p_np[(sub_length * i):(sub_length * (i + 1))], \n",
    "                             10, h_square)\n",
    "    ksd.append(ksd_)\n",
    "    print(ksd_)\n",
    "\n",
    "ksd = np.array(ksd)\n",
    "np.save('/draco/u/vstimper/Material_Informatics/boltzmann_generators/results/ksd/mcmc_01.npy', ksd)"
   ]
  },
  {
   "cell_type": "code",
   "execution_count": 11,
   "metadata": {},
   "outputs": [
    {
     "data": {
      "image/png": "[encoded data removed]",
      "text/plain": [
       "<Figure size 432x288 with 1 Axes>"
      ]
     },
     "metadata": {
      "needs_background": "light"
     },
     "output_type": "display_data"
    }
   ],
   "source": [
    "ksd_rnvp = np.load('/draco/u/vstimper/Material_Informatics/boltzmann_generators/results/ksd/rnvp_01.npy')\n",
    "ksd_snf = np.load('/draco/u/vstimper/Material_Informatics/boltzmann_generators/results/ksd/snf_01.npy')\n",
    "ksd_mcmc = np.load('/draco/u/vstimper/Material_Informatics/boltzmann_generators/results/ksd/mcmc_01.npy')\n",
    "\n",
    "#plt.figure(figsize=(10, 10))\n",
    "plt.plot(['RNVP'] * 10 + ['MCMC'] * 10 + ['RNVP + MCMC'] * 10, np.concatenate([ksd_rnvp, ksd_mcmc, ksd_snf]), 'x')\n",
    "#plt.plot(['MCMC'] * 10 + ['RNVP + MCMC'] * 10, np.concatenate([ksd_mcmc, ksd_snf]), 'x')\n",
    "plt.savefig('ksd_with_rnvp.png', dpi=300)\n",
    "plt.show()"
   ]
  },
  {
   "cell_type": "code",
   "execution_count": null,
   "metadata": {},
   "outputs": [],
   "source": []
  }
 ],
 "metadata": {
  "kernelspec": {
   "display_name": "Python 3",
   "language": "python",
   "name": "python3"
  },
  "language_info": {
   "codemirror_mode": {
    "name": "ipython",
    "version": 3
   },
   "file_extension": ".py",
   "mimetype": "text/x-python",
   "name": "python",
   "nbconvert_exporter": "python",
   "pygments_lexer": "ipython3",
   "version": "3.7.3"
  }
 },
 "nbformat": 4,
 "nbformat_minor": 2
}
