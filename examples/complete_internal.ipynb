{
 "cells": [
  {
   "cell_type": "code",
   "execution_count": null,
   "id": "9ff6fba9",
   "metadata": {},
   "outputs": [],
   "source": [
    "import torch\n",
    "from openmmtools.constants import kB\n",
    "from simtk import openmm as mm\n",
    "from simtk import unit\n",
    "from simtk.openmm import app\n",
    "from openmmtools.testsystems import AlanineDipeptideVacuum\n",
    "import numpy as np\n",
    "import mdtraj\n",
    "\n",
    "import boltzgen.internal as ics"
   ]
  },
  {
   "cell_type": "code",
   "execution_count": null,
   "id": "45c87d1c",
   "metadata": {},
   "outputs": [],
   "source": [
    "# Generate a trajectory for use as training data\n",
    "temperature = 298\n",
    "kT = kB * temperature\n",
    "testsystem = AlanineDipeptideVacuum()\n",
    "vacuum_sim = app.Simulation(testsystem.topology,\n",
    "                            testsystem.system,\n",
    "                            mm.LangevinIntegrator(temperature * unit.kelvin , 1.0 / unit.picosecond, 1.0 * unit.femtosecond),\n",
    "                            platform=mm.Platform.getPlatformByName('Reference')\n",
    "                            )\n",
    "vacuum_sim.context.setPositions(testsystem.positions)\n",
    "vacuum_sim.minimizeEnergy()\n",
    "vacuum_sim.reporters.append(mdtraj.reporters.HDF5Reporter('/home/vstimper/Documents/MPI-IS/Projects/bootstrap-flow/datasets/aldp.h5', 100))\n",
    "vacuum_sim.step(100000)\n",
    "del(vacuum_sim)"
   ]
  },
  {
   "cell_type": "code",
   "execution_count": null,
   "id": "22553613",
   "metadata": {},
   "outputs": [],
   "source": [
    "aldp_traj = mdtraj.load('/home/vstimper/Documents/MPI-IS/Projects/bootstrap-flow/datasets/aldp.h5')"
   ]
  },
  {
   "cell_type": "code",
   "execution_count": null,
   "id": "af36b6fd",
   "metadata": {},
   "outputs": [],
   "source": [
    "z = [\n",
    "    (0, [1, 4, 6]),\n",
    "    (1, [4, 6, 8]),\n",
    "    (2, [1, 4, 0]),\n",
    "    (3, [1, 4, 0]),\n",
    "    (4, [6, 8, 14]),\n",
    "    (5, [4, 6, 8]),\n",
    "    (7, [6, 8, 4]),\n",
    "    (9, [8, 6, 4]),\n",
    "    (10, [8, 6, 4]),\n",
    "    (11, [10, 8, 6]),\n",
    "    (12, [10, 8, 11]),\n",
    "    (13, [10, 8, 11]),\n",
    "    (15, [14, 8, 16]),\n",
    "    (16, [14, 8, 6]),\n",
    "    (17, [16, 14, 15]),\n",
    "    (18, [16, 14, 8]),\n",
    "    (19, [18, 16, 14]),\n",
    "    (20, [18, 16, 19]),\n",
    "    (21, [18, 16, 19])\n",
    "]\n",
    "\n",
    "backbone_indices = [8, 6, 14]\n",
    "\n",
    "# center everything\n",
    "aldp_traj.center_coordinates()\n",
    "\n",
    "# superpose on the backbone\n",
    "ind = aldp_traj.top.select(\"backbone\")\n",
    "\n",
    "aldp_traj.superpose(aldp_traj, 0, atom_indices=ind, ref_atom_indices=ind)\n",
    "\n",
    "# Gather the training data into a pytorch Tensor with the right shape\n",
    "training_data = aldp_traj.xyz\n",
    "n_atoms = training_data.shape[1]\n",
    "n_dim = n_atoms * 3\n",
    "training_data_npy = training_data.reshape(-1, n_dim)\n",
    "training_data = torch.from_numpy(training_data_npy.astype(\"float64\"))\n",
    "\n",
    "ic_transform = ics.InternalCoordinateTransform(n_dim, z, backbone_indices, training_data)\n",
    "\n",
    "transformed_c, jac = ic_transform.forward(training_data)\n",
    "back_trans, back_jac = ic_transform.inverse(transformed_c)\n",
    "\n",
    "\n",
    "cic_transform = ics.CompleteInternalCoordinateTransform(n_dim, z, backbone_indices, training_data)\n",
    "\n",
    "z, j = cic_transform.forward(training_data)\n",
    "x, bj = cic_transform.inverse(z)\n",
    "z_, _ = cic_transform.forward(x)\n",
    "x_, _ = cic_transform.inverse(z_)"
   ]
  },
  {
   "cell_type": "code",
   "execution_count": null,
   "id": "e9691d81",
   "metadata": {},
   "outputs": [],
   "source": [
    "print(torch.max(torch.abs(z_ - z)))\n",
    "print(torch.max(torch.abs(x_ - x)))"
   ]
  }
 ],
 "metadata": {
  "kernelspec": {
   "display_name": "Python 3 (ipykernel)",
   "language": "python",
   "name": "python3"
  },
  "language_info": {
   "codemirror_mode": {
    "name": "ipython",
    "version": 3
   },
   "file_extension": ".py",
   "mimetype": "text/x-python",
   "name": "python",
   "nbconvert_exporter": "python",
   "pygments_lexer": "ipython3",
   "version": "3.7.11"
  }
 },
 "nbformat": 4,
 "nbformat_minor": 5
}
