{
 "nbformat": 4,
 "nbformat_minor": 2,
 "metadata": {
  "language_info": {
   "name": "python",
   "codemirror_mode": {
    "name": "ipython",
    "version": 3
   },
   "version": "3.7.6-final"
  },
  "orig_nbformat": 2,
  "file_extension": ".py",
  "mimetype": "text/x-python",
  "name": "python",
  "npconvert_exporter": "python",
  "pygments_lexer": "ipython3",
  "version": 3,
  "kernelspec": {
   "name": "python37664bitpytorch2conda2d47d61a0f134d8aac9f1e53c6140db5",
   "display_name": "Python 3.7.6 64-bit ('pytorch2': conda)"
  }
 },
 "cells": [
  {
   "cell_type": "code",
   "execution_count": 1,
   "metadata": {},
   "outputs": [],
   "source": [
    "import torch\n",
    "import numpy as np\n",
    "import mdtraj\n",
    "\n",
    "import sys\n",
    "# sys.path.insert(1, '/var/home/vs488/Documents/boltzmann/code/boltzmann-generators/')\n",
    "sys.path.append(\"../\")\n",
    "import boltzgen.zmatrix as zmatrix\n",
    "import boltzgen.internal as ics\n",
    "import boltzgen.mixed as mixed\n",
    "\n",
    "aldp_traj = mdtraj.load('aldp100.h5')"
   ]
  },
  {
   "cell_type": "code",
   "execution_count": 2,
   "metadata": {},
   "outputs": [
    {
     "output_type": "stream",
     "name": "stdout",
     "text": "Inside MixedTransform constructor\norg tensor([-0.3444, -0.2671,  0.0676])\nict tensor([-0.0012,  0.8984, -0.4642])\nmxd tensor([-1.3905, -0.4556,  2.3946])\nrcd tensor([-0.3444, -0.2671,  0.0676])\n--------\norg tensor([-0.2896, -0.2343, -0.0207])\nict tensor([-0.7018,  0.0529, -0.0597])\nmxd tensor([-0.7838,  0.7156, -1.2061])\nrcd tensor([-0.2896, -0.2343, -0.0207])\n--------\norg tensor([-0.3459, -0.1498, -0.0604])\nict tensor([-8.1801e-04, -9.5989e-01,  6.3359e-02])\nmxd tensor([-0.9657, -2.1087,  0.4958])\nrcd tensor([-0.3459, -0.1498, -0.0604])\n--------\norg tensor([-0.2988, -0.3073, -0.1011])\nict tensor([-0.0011,  0.3681, -0.1829])\nmxd tensor([-0.0911,  0.6042,  0.7680])\nrcd tensor([-0.2988, -0.3073, -0.1011])\n--------\norg tensor([-0.1475, -0.2014,  0.0106])\nict tensor([-0.1475, -0.2014,  0.0106])\nmxd tensor([ 0.1409, -1.5165, -0.9968])\nrcd tensor([-0.1475, -0.2014,  0.0106])\n--------\norg tensor([-0.0755, -0.2853,  0.0616])\nict tensor([-0.0755, -0.2853,  0.0616])\nmxd tensor([-0.1766, -1.3807, -0.6933])\nrcd tensor([-0.0755, -0.2853,  0.0616])\n--------\norg tensor([-0.1051, -0.0760, -0.0103])\nict tensor([-0.1051, -0.0760, -0.0103])\nmxd tensor([-0.7018,  0.0529, -0.0597])\nrcd tensor([-0.1051, -0.0760, -0.0103])\n--------\norg tensor([-0.1620, -0.0117, -0.0634])\nict tensor([0.0009, 0.5125, 0.1775])\nmxd tensor([-0.0012,  0.8984, -0.4642])\nrcd tensor([-0.1620, -0.0117, -0.0634])\n--------\norg tensor([ 0.0366, -0.0308,  0.0220])\nict tensor([ 0.0366, -0.0308,  0.0220])\nmxd tensor([-8.1801e-04, -9.5989e-01,  6.3359e-02])\nrcd tensor([ 0.0366, -0.0308,  0.0220])\n--------\norg tensor([ 0.0635, -0.0649,  0.1220])\nict tensor([-0.0013,  0.1710,  0.6847])\nmxd tensor([-0.0011,  0.3681, -0.1829])\nrcd tensor([ 0.0635, -0.0649,  0.1220])\n--------\norg tensor([ 0.1394, -0.0903, -0.0806])\nict tensor([ 0.9749,  0.7225, -0.0404])\nmxd tensor([0.0009, 0.5125, 0.1775])\nrcd tensor([ 0.1394, -0.0903, -0.0806])\n--------\norg tensor([ 0.1192, -0.0555, -0.1819])\nict tensor([-0.0011,  0.2862, -0.0300])\nmxd tensor([-0.0013,  0.1710,  0.6847])\nrcd tensor([ 0.1192, -0.0555, -0.1819])\n--------\norg tensor([ 0.2408, -0.0605, -0.0541])\nict tensor([-0.0010,  0.0302,  0.0012])\nmxd tensor([ 0.9749,  0.7225, -0.0404])\nrcd tensor([ 0.2408, -0.0605, -0.0541])\n--------\norg tensor([ 0.1328, -0.1991, -0.0816])\nict tensor([-0.0011, -0.2205, -0.0004])\nmxd tensor([-0.0011,  0.2862, -0.0300])\nrcd tensor([ 0.1328, -0.1991, -0.0816])\n--------\norg tensor([0.0377, 0.1230, 0.0299])\nict tensor([0.0377, 0.1230, 0.0299])\nmxd tensor([-0.0010,  0.0302,  0.0012])\nrcd tensor([0.0377, 0.1230, 0.0299])\n--------\norg tensor([-0.0606,  0.1914, -0.0010])\nict tensor([-0.0606,  0.1914, -0.0010])\nmxd tensor([-0.0011, -0.2205, -0.0004])\nrcd tensor([-0.0606,  0.1914, -0.0010])\n--------\norg tensor([0.1550, 0.1797, 0.0649])\nict tensor([0.1550, 0.1797, 0.0649])\nmxd tensor([5.2103e-04, 7.9802e-01, 2.1697e-02])\nrcd tensor([0.1550, 0.1797, 0.0649])\n--------\norg tensor([0.2306, 0.1200, 0.0954])\nict tensor([5.2103e-04, 7.9802e-01, 2.1697e-02])\nmxd tensor([-1.2643e-03,  3.7148e-01, -1.7778e+00])\nrcd tensor([0.2306, 0.1200, 0.0954])\n--------\norg tensor([0.1659, 0.3256, 0.0479])\nict tensor([0.1659, 0.3256, 0.0479])\nmxd tensor([-0.0011, -0.5918, -0.0091])\nrcd tensor([0.1659, 0.3256, 0.0479])\n--------\norg tensor([0.1171, 0.3789, 0.1295])\nict tensor([-1.2643e-03,  3.7148e-01, -1.7778e+00])\nmxd tensor([-0.0007, -0.1496, -0.0475])\nrcd tensor([0.1171, 0.3789, 0.1295])\n--------\n"
    }
   ],
   "source": [
    "z = [\n",
    "    (1, [4, 5, 6]),\n",
    "    (0, [1, 4, 5]),\n",
    "    (2, [1, 0, 4]),\n",
    "    (3, [1, 0, 2]),\n",
    "    (7, [6, 4, 5]),\n",
    "    (9, [8, 6, 7]),\n",
    "    (10, [8, 6, 9]),\n",
    "    (11, [10, 8, 9]),\n",
    "    (12, [10, 8, 11]),\n",
    "    (13, [10, 11, 12]),\n",
    "    (17, [16, 14, 15]),\n",
    "    (19, [18, 16, 17]),\n",
    "    (20, [18, 19, 16]),\n",
    "    (21, [18, 19, 20])\n",
    "]\n",
    "\n",
    "backbone_indices = [4, 5, 6, 8, 14, 15, 16, 18]\n",
    "# center everything\n",
    "aldp_traj.center_coordinates()\n",
    "\n",
    "# superpose on the backbone\n",
    "ind = aldp_traj.top.select(\"backbone\")\n",
    "\n",
    "aldp_traj.superpose(aldp_traj, 0, atom_indices=ind, ref_atom_indices=ind)\n",
    "\n",
    "# Gather the training data into a pytorch Tensor with the right shape\n",
    "training_data = aldp_traj.xyz\n",
    "n_atoms = training_data.shape[1]\n",
    "n_dim = n_atoms * 3\n",
    "training_data_npy = training_data.reshape(-1, n_dim)\n",
    "training_data = torch.from_numpy(training_data_npy.astype(\"float32\"))\n",
    "\n",
    "\n",
    "mixed_transform = mixed.MixedTransform(66, backbone_indices, z, training_data)\n",
    "\n",
    "# just for testing do the internal transform\n",
    "ic_transform = ics.InternalCoordinateTransform(n_dim, z, backbone_indices, training_data)\n",
    "transformed_c, jac = ic_transform.forward(training_data)\n",
    "\n",
    "mixed_coords, jac = mixed_transform.forward(training_data)\n",
    "orig_coords, invjac = mixed_transform.inverse(mixed_coords)\n",
    "\n",
    "for i in range(20):\n",
    "    print(\"org\", training_data[0, 3*i:3*i+3])\n",
    "    print(\"ict\", transformed_c[0, 3*i:3*i+3])\n",
    "    print(\"mxd\", mixed_coords[0, 3*i:3*i+3])\n",
    "    print(\"rcd\", orig_coords[0, 3*i:3*i+3])\n",
    "    print(\"--------\")"
   ]
  },
  {
   "cell_type": "code",
   "execution_count": null,
   "metadata": {},
   "outputs": [],
   "source": []
  }
 ]
}