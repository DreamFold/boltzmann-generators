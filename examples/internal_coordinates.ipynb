{
 "nbformat": 4,
 "nbformat_minor": 2,
 "metadata": {
  "language_info": {
   "name": "python",
   "codemirror_mode": {
    "name": "ipython",
    "version": 3
   },
   "version": "3.7.6-final"
  },
  "orig_nbformat": 2,
  "file_extension": ".py",
  "mimetype": "text/x-python",
  "name": "python",
  "npconvert_exporter": "python",
  "pygments_lexer": "ipython3",
  "version": 3,
  "kernelspec": {
   "name": "python37664bitpytorch2conda2d47d61a0f134d8aac9f1e53c6140db5",
   "display_name": "Python 3.7.6 64-bit ('pytorch2': conda)"
  }
 },
 "cells": [
  {
   "cell_type": "code",
   "execution_count": 1,
   "metadata": {},
   "outputs": [],
   "source": [
    "import torch\n",
    "from openmmtools.constants import kB\n",
    "from simtk import openmm as mm\n",
    "from simtk import unit\n",
    "from simtk.openmm import app\n",
    "from openmmtools.testsystems import AlanineDipeptideVacuum\n",
    "import numpy as np\n",
    "import mdtraj\n",
    "\n",
    "import sys\n",
    "# sys.path.insert(1, '/var/home/vs488/Documents/boltzmann/code/boltzmann-generators/')\n",
    "sys.path.append(\"../\")\n",
    "import boltzgen.zmatrix as zmatrix\n",
    "import boltzgen.internal as ics"
   ]
  },
  {
   "cell_type": "code",
   "execution_count": 1,
   "metadata": {},
   "outputs": [
    {
     "ename": "NameError",
     "evalue": "name 'kB' is not defined",
     "output_type": "error",
     "traceback": [
      "\u001b[1;31m---------------------------------------------------------------------------\u001b[0m",
      "\u001b[1;31mNameError\u001b[0m                                 Traceback (most recent call last)",
      "\u001b[1;32m<ipython-input-1-b3cbe75d9246>\u001b[0m in \u001b[0;36m<module>\u001b[1;34m\u001b[0m\n\u001b[0;32m      1\u001b[0m \u001b[1;31m# Generate a trajectory for use as training data\u001b[0m\u001b[1;33m\u001b[0m\u001b[1;33m\u001b[0m\u001b[1;33m\u001b[0m\u001b[0m\n\u001b[0;32m      2\u001b[0m \u001b[0mtemperature\u001b[0m \u001b[1;33m=\u001b[0m \u001b[1;36m298\u001b[0m\u001b[1;33m\u001b[0m\u001b[1;33m\u001b[0m\u001b[0m\n\u001b[1;32m----> 3\u001b[1;33m \u001b[0mkT\u001b[0m \u001b[1;33m=\u001b[0m \u001b[0mkB\u001b[0m \u001b[1;33m*\u001b[0m \u001b[0mtemperature\u001b[0m\u001b[1;33m\u001b[0m\u001b[1;33m\u001b[0m\u001b[0m\n\u001b[0m\u001b[0;32m      4\u001b[0m \u001b[0mtestsystem\u001b[0m \u001b[1;33m=\u001b[0m \u001b[0mAlanineDipeptideVacuum\u001b[0m\u001b[1;33m(\u001b[0m\u001b[1;33m)\u001b[0m\u001b[1;33m\u001b[0m\u001b[1;33m\u001b[0m\u001b[0m\n\u001b[0;32m      5\u001b[0m vacuum_sim = app.Simulation(testsystem.topology,\n",
      "\u001b[1;31mNameError\u001b[0m: name 'kB' is not defined"
     ]
    }
   ],
   "source": [
    "# Generate a trajectory for use as training data\n",
    "temperature = 298\n",
    "kT = kB * temperature\n",
    "testsystem = AlanineDipeptideVacuum()\n",
    "vacuum_sim = app.Simulation(testsystem.topology,\n",
    "                            testsystem.system,\n",
    "                            mm.LangevinIntegrator(temperature * unit.kelvin , 1.0 / unit.picosecond, 1.0 * unit.femtosecond),\n",
    "                            platform=mm.Platform.getPlatformByName('CPU')\n",
    "                            )\n",
    "vacuum_sim.context.setPositions(testsystem.positions)\n",
    "vacuum_sim.minimizeEnergy()\n",
    "vacuum_sim.reporters.append(mdtraj.reporters.HDF5Reporter('aldp.h5', 1000))\n",
    "vacuum_sim.step(10000)\n",
    "# for _ in range(10):\n",
    "#    vacuum_sim.step(1)\n",
    "#    traj.append(np.array(vacuum_sim.context.getState(getPositions=True).getPositions(asNumpy=True)))\n",
    "# traj = np.array(traj).reshape((-1, 66))\n",
    "# training_data = torch.as_tensor(traj, dtype=torch.float32)`\n"
   ]
  },
  {
   "cell_type": "code",
   "execution_count": 2,
   "metadata": {},
   "outputs": [],
   "source": [
    "aldp_traj = mdtraj.load('aldp.h5')"
   ]
  },
  {
   "cell_type": "code",
   "execution_count": 3,
   "metadata": {},
   "outputs": [
    {
     "name": "stdout",
     "output_type": "stream",
     "text": "<bound method Topology.atoms_by_name of <mdtraj.Topology with 1 chains, 3 residues, 22 atoms, 21 bonds at 0x1dd2ae5a288>>\nresidues:  [ACE1, ALA2, NME3]\nmolecules:  [MoleculeExtent(start_res=0, end_res=3, is_protein=True)]\nresidue:  ACE1\nis_nterm:  True  is c_term:  False\nres_atoms:  {'H1': 0, 'CH3': 1, 'H2': 2, 'H3': 3, 'C': 4, 'O': 5}\nres_name:  ACE\n"
    },
    {
     "ename": "KeyError",
     "evalue": "'ACE'",
     "output_type": "error",
     "traceback": [
      "\u001b[1;31m---------------------------------------------------------------------------\u001b[0m",
      "\u001b[1;31mKeyError\u001b[0m                                  Traceback (most recent call last)",
      "\u001b[1;32m<ipython-input-3-9d5650299b8d>\u001b[0m in \u001b[0;36m<module>\u001b[1;34m\u001b[0m\n\u001b[0;32m      1\u001b[0m \u001b[0mprint\u001b[0m\u001b[1;33m(\u001b[0m\u001b[0maldp_traj\u001b[0m\u001b[1;33m.\u001b[0m\u001b[0mtopology\u001b[0m\u001b[1;33m.\u001b[0m\u001b[0matoms_by_name\u001b[0m\u001b[1;33m)\u001b[0m\u001b[1;33m\u001b[0m\u001b[1;33m\u001b[0m\u001b[0m\n\u001b[1;32m----> 2\u001b[1;33m \u001b[0mz_mat\u001b[0m \u001b[1;33m=\u001b[0m \u001b[0mzmatrix\u001b[0m\u001b[1;33m.\u001b[0m\u001b[0mmdtraj_to_z\u001b[0m\u001b[1;33m(\u001b[0m\u001b[0maldp_traj\u001b[0m\u001b[1;33m.\u001b[0m\u001b[0mtopology\u001b[0m\u001b[1;33m,\u001b[0m \u001b[1;33m[\u001b[0m\u001b[1;33m]\u001b[0m\u001b[1;33m)\u001b[0m\u001b[1;33m\u001b[0m\u001b[1;33m\u001b[0m\u001b[0m\n\u001b[0m",
      "\u001b[1;32mc:\\Users\\Andy\\Documents\\!Work\\project\\boltzmann-generators\\boltzgen\\zmatrix.py\u001b[0m in \u001b[0;36mmdtraj_to_z\u001b[1;34m(topology, cart_ind, molecules, extra_basis)\u001b[0m\n\u001b[0;32m    387\u001b[0m             \u001b[0mres_name\u001b[0m \u001b[1;33m=\u001b[0m \u001b[0mresidue\u001b[0m\u001b[1;33m.\u001b[0m\u001b[0mname\u001b[0m\u001b[1;33m\u001b[0m\u001b[1;33m\u001b[0m\u001b[0m\n\u001b[0;32m    388\u001b[0m             \u001b[0mprint\u001b[0m\u001b[1;33m(\u001b[0m\u001b[1;34m\"res_name: \"\u001b[0m\u001b[1;33m,\u001b[0m \u001b[0mres_name\u001b[0m\u001b[1;33m)\u001b[0m\u001b[1;33m\u001b[0m\u001b[1;33m\u001b[0m\u001b[0m\n\u001b[1;32m--> 389\u001b[1;33m             \u001b[0mres_basis\u001b[0m \u001b[1;33m=\u001b[0m \u001b[1;33m{\u001b[0m\u001b[0me\u001b[0m\u001b[1;33m[\u001b[0m\u001b[1;36m0\u001b[0m\u001b[1;33m]\u001b[0m\u001b[1;33m:\u001b[0m \u001b[1;33m(\u001b[0m\u001b[0me\u001b[0m\u001b[1;33m[\u001b[0m\u001b[1;36m1\u001b[0m\u001b[1;33m]\u001b[0m\u001b[1;33m,\u001b[0m \u001b[0me\u001b[0m\u001b[1;33m[\u001b[0m\u001b[1;36m2\u001b[0m\u001b[1;33m]\u001b[0m\u001b[1;33m,\u001b[0m \u001b[0me\u001b[0m\u001b[1;33m[\u001b[0m\u001b[1;36m3\u001b[0m\u001b[1;33m]\u001b[0m\u001b[1;33m)\u001b[0m \u001b[1;32mfor\u001b[0m \u001b[0me\u001b[0m \u001b[1;32min\u001b[0m \u001b[0mbasis\u001b[0m\u001b[1;33m[\u001b[0m\u001b[0mres_name\u001b[0m\u001b[1;33m]\u001b[0m\u001b[1;33m}\u001b[0m\u001b[1;33m\u001b[0m\u001b[1;33m\u001b[0m\u001b[0m\n\u001b[0m\u001b[0;32m    390\u001b[0m             \u001b[1;31m# Add in extra atoms for N-terminus\u001b[0m\u001b[1;33m\u001b[0m\u001b[1;33m\u001b[0m\u001b[1;33m\u001b[0m\u001b[0m\n\u001b[0;32m    391\u001b[0m             \u001b[1;32mif\u001b[0m \u001b[0mis_nterm\u001b[0m \u001b[1;32mand\u001b[0m \u001b[0mmolecule\u001b[0m\u001b[1;33m.\u001b[0m\u001b[0mis_protein\u001b[0m\u001b[1;33m:\u001b[0m\u001b[1;33m\u001b[0m\u001b[1;33m\u001b[0m\u001b[0m\n",
      "\u001b[1;31mKeyError\u001b[0m: 'ACE'"
     ]
    }
   ],
   "source": [
    "print(aldp_traj.topology.atoms_by_name)\n",
    "z_mat = zmatrix.mdtraj_to_z(aldp_traj.topology, [])"
   ]
  },
  {
   "cell_type": "code",
   "execution_count": null,
   "metadata": {},
   "outputs": [],
   "source": []
  }
 ]
}