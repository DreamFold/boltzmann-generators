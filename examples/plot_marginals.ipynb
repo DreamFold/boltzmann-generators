{
 "cells": [
  {
   "cell_type": "markdown",
   "metadata": {},
   "source": [
    "# Visualize selected marginals for different models"
   ]
  },
  {
   "cell_type": "code",
   "execution_count": null,
   "metadata": {},
   "outputs": [],
   "source": [
    "# Import packages\n",
    "import torch\n",
    "import numpy as np\n",
    "from scipy import stats\n",
    "\n",
    "import boltzgen as bg\n",
    "import mdtraj as md\n",
    "\n",
    "import matplotlib as mpl\n",
    "from matplotlib import pyplot as plt\n",
    "\n",
    "from tqdm import tqdm"
   ]
  },
  {
   "cell_type": "code",
   "execution_count": null,
   "metadata": {},
   "outputs": [],
   "source": [
    "# Create model for transform\n",
    "\n",
    "# Specify checkpoint root\n",
    "checkpoint_root = 'models/rnvp_01/'\n",
    "# Load config\n",
    "config = bg.utils.get_config(checkpoint_root + 'config/bm.yaml')\n",
    "# Setup model\n",
    "model = bg.BoltzmannGenerator(config)\n",
    "# Move model on GPU if available\n",
    "enable_cuda = False\n",
    "device = torch.device('cuda' if torch.cuda.is_available() and enable_cuda else 'cpu')\n",
    "model = model.to(device)\n",
    "model = model.double()"
   ]
  },
  {
   "cell_type": "code",
   "execution_count": null,
   "metadata": {},
   "outputs": [],
   "source": [
    "# Load checkpoint\n",
    "model.load(checkpoint_root + 'checkpoints/model_30000.pt')"
   ]
  },
  {
   "cell_type": "code",
   "execution_count": null,
   "metadata": {},
   "outputs": [],
   "source": [
    "# Get test data\n",
    "test_data = bg.utils.load_traj('data/trajectory/aldp_test.h5')"
   ]
  },
  {
   "cell_type": "code",
   "execution_count": null,
   "metadata": {},
   "outputs": [],
   "source": [
    "# Load model samples\n",
    "\"\"\"\n",
    "prefix = ['data/samples/20200903/alpha_1_no_scale_01/samples_batch_num_0_processID_',\n",
    "          'data/samples/20200825/alpha_1_scale_02/samples_batch_num_0_processID_',\n",
    "          'data/samples/20200906_baselines/grid_search/alpha_1/alpha_1_grid_search_samples_batch_num_0_processID_',\n",
    "          'data/samples/20200906_baselines/train_acc_prob/alpha_1/alpha_1_train_acc_prob_samples_batch_num_0_processID_']\n",
    "prefix = ['data/samples/20200903/alpha_0_no_scale_01/samples_batch_num_0_processID_',\n",
    "          'data/samples/20200825/alpha_0_scale_02/samples_batch_num_0_processID_',\n",
    "          'data/samples/20200922/alpha_0_grid_search_samples_batch_num_0_processID_',\n",
    "          'data/samples/20200922/alpha_0_train_acc_prob_samples_batch_num_0_processID_']\n",
    "prefix = ['data/samples/20200903/md_no_scale_01/samples_batch_num_0_processID_',\n",
    "          'data/samples/20200825/md_scale_02/samples_batch_num_0_processID_',\n",
    "          'data/samples/20200906_baselines/grid_search/md/md_grid_search_samples_batch_num_0_processID_',\n",
    "          'data/samples/20200906_baselines/train_acc_prob/md/md_train_acc_prob_samples_batch_num_0_processID_']\n",
    "prefix = ['data/samples/20210115/alpha_0_no_scale_02/0250/samples_batch_num_0_processID_',\n",
    "          'data/samples/20210115/alpha_0_scale_03/0250/samples_batch_num_0_processID_',\n",
    "          'data/samples/20200922/alpha_0_grid_search_samples_batch_num_0_processID_',\n",
    "          'data/samples/20200922/alpha_0_train_acc_prob_samples_batch_num_0_processID_']    \n",
    "\"\"\"\n",
    "prefix = ['data/samples/20210115/alpha_1_no_scale_02/samples_batch_num_0_processID_',\n",
    "          'data/samples/20210115/alpha_1_scale_03/samples_batch_num_0_processID_',\n",
    "          'data/samples/20200906_baselines/grid_search/alpha_1/alpha_1_grid_search_samples_batch_num_0_processID_',\n",
    "          'data/samples/20200906_baselines/train_acc_prob/alpha_1/alpha_1_train_acc_prob_samples_batch_num_0_processID_']\n",
    "\n",
    "x_np = np.zeros((len(prefix) + 1, 1024 * 1024, 66))\n",
    "z_np = np.zeros((len(prefix) + 1, 1024 * 1024, 60))\n",
    "for j in range(len(prefix)):\n",
    "    for i in tqdm(range(1024)):\n",
    "        x_np_ = np.load(prefix[j] + str(i) + '.npy')\n",
    "        x_np[j + 1, (i * 1024):((i + 1) * 1024), :] = x_np_\n",
    "        x = torch.tensor(x_np_)\n",
    "        z, _ = model.flows[-1].inverse(x)\n",
    "        z_np_ = z.numpy()\n",
    "        z_np[j + 1, (i * 1024):((i + 1) * 1024), :] = z_np_\n",
    "x_np = x_np[:, :1000000, :]\n",
    "z_np = z_np[:, :1000000, :]\n",
    "x_np[0, :, :] = test_data.numpy()\n",
    "z, _ = model.flows[-1].inverse(test_data)\n",
    "z_np[0, :, :] = z.numpy()"
   ]
  },
  {
   "cell_type": "code",
   "execution_count": null,
   "metadata": {},
   "outputs": [],
   "source": [
    "# Get marginals via KDE\n",
    "int_range = [-np.pi, np.pi]\n",
    "npoints = 150\n",
    "x = np.linspace(int_range[0], int_range[1], npoints)\n",
    "kde_marg = np.zeros((len(z_np), npoints, 60))\n",
    "for i in range(len(z_np)):\n",
    "    for j in tqdm(range(60)):\n",
    "        kde = stats.gaussian_kde(z_np[i, np.logical_not(np.isnan(z_np[i, :, j])), j])\n",
    "        kde_marg[i, :, j] = kde.pdf(x)"
   ]
  },
  {
   "cell_type": "code",
   "execution_count": null,
   "metadata": {},
   "outputs": [],
   "source": [
    "ind_marg = np.array([[22, 43, 58], [9, 33, 45], [32, 53, 11], [1, 2, 7]])\n",
    "ylabel = ['Bond angles', 'Bond lengths', 'Dihedral angles', 'Cartesian coordinates']\n",
    "f, ax = plt.subplots(4, 3, figsize=(15, 20), sharex=True)\n",
    "lines = [None] * len(kde_marg)\n",
    "for i in range(ind_marg.shape[0]):\n",
    "    for j in range(ind_marg.shape[1]):\n",
    "        for k in range(len(kde_marg)):\n",
    "            lines[k], = ax[i, j].plot(x, kde_marg[k, :, ind_marg[i, j]])\n",
    "        ax[i, j].set_yticks([])\n",
    "        ax[i, j].tick_params(axis='x', which='both', labelsize=18)\n",
    "        if j == 0:\n",
    "            ax[i, j].set_ylabel(ylabel[i], fontsize=22)\n",
    "f.legend(lines, ['Ground truth', 'maxELT', 'maxELT & SKSD', 'Grid search', '$\\overline{p}_a=0.65$'], \n",
    "         bbox_to_anchor=(0.905, 0.885), fontsize=16)\n",
    "plt.savefig('plots/marginals/alpha1.eps')\n",
    "plt.show()"
   ]
  },
  {
   "cell_type": "code",
   "execution_count": null,
   "metadata": {},
   "outputs": [],
   "source": [
    "# Get indices of the groups\n",
    "ncarts = model.flows[-1].mixed_transform.len_cart_inds\n",
    "permute_inv = model.flows[-1].mixed_transform.permute_inv\n",
    "bond_ind = model.flows[-1].mixed_transform.ic_transform.bond_indices\n",
    "angle_ind = model.flows[-1].mixed_transform.ic_transform.angle_indices\n",
    "dih_ind = model.flows[-1].mixed_transform.ic_transform.dih_indices\n",
    "\n",
    "ind_perm = np.concatenate([np.arange(3 * ncarts - 6), np.arange(60, 66), np.arange(3 * ncarts - 6, 60)])\n",
    "ind = ind_perm[permute_inv]\n",
    "\n",
    "print(ind[bond_ind])\n",
    "print(ind[angle_ind])\n",
    "print(ind[dih_ind])"
   ]
  },
  {
   "cell_type": "markdown",
   "metadata": {},
   "source": [
    "## Ramachandran plot"
   ]
  },
  {
   "cell_type": "code",
   "execution_count": null,
   "metadata": {},
   "outputs": [],
   "source": [
    "ala2_top = md.load('code/snf_noe/data/alanine-dipeptide.pdb').topology\n",
    "traj = [md.Trajectory(x_np_.reshape(-1, 22, 3), ala2_top) for x_np_ in x_np] "
   ]
  },
  {
   "cell_type": "code",
   "execution_count": null,
   "metadata": {},
   "outputs": [],
   "source": [
    "psi = np.array([md.compute_psi(traj_)[1].reshape(-1) for traj_ in traj])\n",
    "psi[np.isnan(psi)] = 0\n",
    "phi = np.array([md.compute_phi(traj_)[1].reshape(-1) for traj_ in traj])\n",
    "phi[np.isnan(phi)] = 0"
   ]
  },
  {
   "cell_type": "code",
   "execution_count": null,
   "metadata": {
    "scrolled": false
   },
   "outputs": [],
   "source": [
    "pref = 'plots/ramachandran/md/'\n",
    "file_name = ['md', 'init'] #['md', 'maxelt', 'maxelt_sksd', 'grid_search', 'acc_prob']\n",
    "\n",
    "for i in range(len(phi)):\n",
    "    plt.figure(figsize=(10, 10))\n",
    "    plt.hist2d(phi[i, :], psi[i, :], bins=64, norm=mpl.colors.LogNorm())\n",
    "    plt.xticks(fontsize=20)\n",
    "    plt.yticks(fontsize=20)\n",
    "    plt.xlabel('$\\phi$', fontsize=24)\n",
    "    plt.ylabel('$\\psi$', fontsize=24)\n",
    "    plt.savefig(pref + file_name[i] + '.png')\n",
    "    plt.show()"
   ]
  },
  {
   "cell_type": "code",
   "execution_count": null,
   "metadata": {},
   "outputs": [],
   "source": [
    "nbins = 64\n",
    "eps = 1e-10\n",
    "\n",
    "hist = []\n",
    "for i in range(len(phi)):\n",
    "    hist.append(np.histogram2d(phi[i, :], psi[i, :], nbins, density=True)[0])\n",
    "\n",
    "kld = []\n",
    "for i in range(1, len(phi)):\n",
    "    kld.append(np.sum(hist[0] * np.log((hist[0] + eps) / (hist[i] + eps))) * 4 * np.pi ** 2 / nbins ** 2)"
   ]
  },
  {
   "cell_type": "code",
   "execution_count": null,
   "metadata": {},
   "outputs": [],
   "source": [
    "kld"
   ]
  },
  {
   "cell_type": "code",
   "execution_count": null,
   "metadata": {},
   "outputs": [],
   "source": [
    "a = np.loadtxt('results/ramachandran/kld.csv',\n",
    "               skiprows=1, usecols=(1, 2, 3, 4, 5), delimiter=',')"
   ]
  },
  {
   "cell_type": "code",
   "execution_count": null,
   "metadata": {},
   "outputs": [],
   "source": [
    "plt.plot(a[0, :4], '.')\n",
    "plt.plot(a[1, :4], '.')\n",
    "plt.plot(a[2, :4], '.')\n",
    "plt.show()"
   ]
  },
  {
   "cell_type": "code",
   "execution_count": null,
   "metadata": {},
   "outputs": [],
   "source": [
    "m2"
   ]
  },
  {
   "cell_type": "code",
   "execution_count": null,
   "metadata": {},
   "outputs": [],
   "source": [
    "t1 = np.loadtxt('models/alpha_0_scale_04/checkpoints/trainprog_hmc_ei_sksd_ckpt_00700.txt')\n",
    "t2 = np.loadtxt('models/alpha_0_scale_03/checkpoints/trainprog_hmc_ei_sksd_ckpt_02000.txt')"
   ]
  },
  {
   "cell_type": "code",
   "execution_count": null,
   "metadata": {},
   "outputs": [],
   "source": [
    "plt.plot(t2[:, 0])"
   ]
  },
  {
   "cell_type": "code",
   "execution_count": null,
   "metadata": {
    "scrolled": true
   },
   "outputs": [],
   "source": [
    "for i in range(len(psi)):\n",
    "    plt.hist(psi[i, :], bins=200)\n",
    "    #plt.savefig('psi_' + file_name[i] + '.png')\n",
    "    plt.show()"
   ]
  },
  {
   "cell_type": "code",
   "execution_count": null,
   "metadata": {},
   "outputs": [],
   "source": [
    "for i in range(len(phi)):\n",
    "    plt.hist(phi[i, :], bins=200)\n",
    "    #plt.savefig('phi_' + file_name[i] + '.png')\n",
    "    plt.show()"
   ]
  },
  {
   "cell_type": "code",
   "execution_count": null,
   "metadata": {},
   "outputs": [],
   "source": [
    "# Draw samples\n",
    "\n",
    "nth = 1\n",
    "\n",
    "model.eval()\n",
    "\n",
    "z_np_ = np.zeros((0, 60))\n",
    "x_np_ = np.zeros((0, 66))\n",
    "log_p_np = np.zeros((0,))\n",
    "log_q_np = np.zeros((0,))\n",
    "\n",
    "for i in tqdm(range(1000 // nth)):\n",
    "    z, log_q = model.sample(1000)\n",
    "    x_np_ = np.concatenate((x_np_, z.cpu().data.numpy()))\n",
    "    log_p = model.p.log_prob(z)\n",
    "    z, _ = model.flows[-1].inverse(z)\n",
    "    z_np__ = z.cpu().data.numpy()\n",
    "    log_p_np_ = log_p.cpu().data.numpy()\n",
    "    log_q_np_ = log_q.cpu().data.numpy()\n",
    "    z_np_ = np.concatenate((z_np_, z_np__))\n",
    "    log_p_np = np.concatenate((log_p_np, log_p_np_))\n",
    "    log_q_np = np.concatenate((log_q_np, log_q_np_))"
   ]
  },
  {
   "cell_type": "code",
   "execution_count": null,
   "metadata": {},
   "outputs": [],
   "source": [
    "x_np = np.concatenate((x_np, x_np_[None, ...]))"
   ]
  },
  {
   "cell_type": "code",
   "execution_count": null,
   "metadata": {},
   "outputs": [],
   "source": [
    "#ala2_top = md.load('code/snf_noe/data/alanine-dipeptide.pdb')\n",
    "traj = md.Trajectory(x_np.reshape(-1, 22, 3), ala2_top)\n",
    "psi = np.array(md.compute_psi(traj)[1].reshape(-1))\n",
    "psi[np.isnan(psi)] = 0\n",
    "phi = np.array(md.compute_phi(traj)[1].reshape(-1))\n",
    "phi[np.isnan(phi)] = 0"
   ]
  },
  {
   "cell_type": "code",
   "execution_count": null,
   "metadata": {},
   "outputs": [],
   "source": [
    "plt.hist(phi, bins=200)\n",
    "plt.savefig('phi_init.png')\n",
    "plt.show()"
   ]
  }
 ],
 "metadata": {
  "kernelspec": {
   "display_name": "Python 3",
   "language": "python",
   "name": "python3"
  },
  "language_info": {
   "codemirror_mode": {
    "name": "ipython",
    "version": 3
   },
   "file_extension": ".py",
   "mimetype": "text/x-python",
   "name": "python",
   "nbconvert_exporter": "python",
   "pygments_lexer": "ipython3",
   "version": "3.6.10"
  }
 },
 "nbformat": 4,
 "nbformat_minor": 2
}
