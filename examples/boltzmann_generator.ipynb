{
 "cells": [
  {
   "cell_type": "code",
   "execution_count": 1,
   "metadata": {},
   "outputs": [],
   "source": [
    "import torch\n",
    "import numpy as np\n",
    "import mdtraj\n",
    "\n",
    "import sys\n",
    "sys.path.insert(1, '/var/home/vs488/Documents/boltzmann/code/boltzmann-generators/')\n",
    "import boltzgen.zmatrix as zmatrix\n",
    "import boltzgen.internal as ics\n",
    "import boltzgen.mixed as mixed\n",
    "\n",
    "import normflow as nf\n",
    "from boltzgen.flows import CoordinateTransform\n",
    "from boltzgen.distributions import Boltzmann\n",
    "\n",
    "from tqdm import tqdm\n",
    "from matplotlib import pyplot as plt\n",
    "\n",
    "from autograd import grad\n",
    "from autograd import numpy as np\n",
    "from openmmtools.constants import kB\n",
    "from simtk import openmm as mm\n",
    "from simtk import unit\n",
    "from simtk.openmm import app\n",
    "from openmmtools.testsystems import AlanineDipeptideImplicit\n",
    "\n",
    "import sys\n",
    "sys.path.insert(1, '/var/home/vs488/Documents/boltzmann/code/boltzmann-generators/')\n",
    "import boltzgen.openmm_interface as omi\n",
    "\n",
    "# Load the alanine dipeptide trajectory\n",
    "aldp_traj = mdtraj.load('/scratch2/vs488/flow/alanine_dipeptide/trajectory/aldp10000.h5')"
   ]
  },
  {
   "cell_type": "code",
   "execution_count": 2,
   "metadata": {},
   "outputs": [],
   "source": [
    "# Set up coordinate transformation\n",
    "\n",
    "z_matrix = [\n",
    "    (1, [4, 5, 6]),\n",
    "    (0, [1, 4, 5]),\n",
    "    (2, [1, 0, 4]),\n",
    "    (3, [1, 0, 2]),\n",
    "    (7, [6, 4, 5]),\n",
    "    (9, [8, 6, 7]),\n",
    "    (10, [8, 6, 9]),\n",
    "    (11, [10, 8, 9]),\n",
    "    (12, [10, 8, 11]),\n",
    "    (13, [10, 11, 12]),\n",
    "    (17, [16, 14, 15]),\n",
    "    (19, [18, 16, 17]),\n",
    "    (20, [18, 19, 16]),\n",
    "    (21, [18, 19, 20])\n",
    "]\n",
    "\n",
    "backbone_indices = [4, 5, 6, 8, 14, 15, 16, 18]\n",
    "\n",
    "aldp_traj.center_coordinates()\n",
    "\n",
    "# superpose on the backbone\n",
    "ind = aldp_traj.top.select(\"backbone\")\n",
    "\n",
    "aldp_traj.superpose(aldp_traj, 0, atom_indices=ind, ref_atom_indices=ind)\n",
    "\n",
    "# Gather the training data into a pytorch Tensor with the right shape\n",
    "training_data = aldp_traj.xyz\n",
    "n_atoms = training_data.shape[1]\n",
    "n_dim = n_atoms * 3\n",
    "training_data_npy = training_data.reshape(-1, n_dim)\n",
    "training_data = torch.from_numpy(training_data_npy.astype(\"float32\"))\n",
    "\n",
    "# This performs the mixed transform\n",
    "# The z index matrix atoms are transformed to internal coordinates\n",
    "# The cartesian atoms just have PCA applied to them\n",
    "mixed_transform = mixed.MixedTransform(66, backbone_indices, z_matrix, training_data)\n",
    "\n",
    "# Test the forward and backward pass\n",
    "mixed_coords, jac = mixed_transform.forward(training_data)\n",
    "orig_coords, invjac = mixed_transform.inverse(mixed_coords)"
   ]
  },
  {
   "cell_type": "code",
   "execution_count": 3,
   "metadata": {},
   "outputs": [],
   "source": [
    "# Set up simulation object for energy computation\n",
    "\n",
    "temperature = 298\n",
    "kT = kB * temperature\n",
    "\n",
    "testsystem = AlanineDipeptideImplicit()\n",
    "implicit_sim = app.Simulation(testsystem.topology,\n",
    "                              testsystem.system,\n",
    "                              mm.LangevinIntegrator(temperature * unit.kelvin , 1.0 / unit.picosecond, 1.0 * unit.femtosecond),\n",
    "                              platform=mm.Platform.getPlatformByName('CPU')\n",
    "                              )\n",
    "implicit_sim.context.setPositions(testsystem.positions)\n",
    "\n",
    "# Energy function\n",
    "openmm_energy = omi.OpenMMEnergyInterface.apply"
   ]
  },
  {
   "cell_type": "code",
   "execution_count": 4,
   "metadata": {},
   "outputs": [],
   "source": [
    "# Set up flow model\n",
    "\n",
    "# Define flows\n",
    "K = 8\n",
    "#torch.manual_seed(0)\n",
    "\n",
    "latent_size = 60\n",
    "b = torch.Tensor([1 if i % 2 == 0 else 0 for i in range(latent_size)])\n",
    "flows = []\n",
    "for i in range(K):\n",
    "    s = nf.nets.MLP([latent_size, 2 * latent_size, latent_size])\n",
    "    t = nf.nets.MLP([latent_size, 2 * latent_size, latent_size])\n",
    "    if i % 2 == 0:\n",
    "        flows += [nf.flows.MaskedAffineFlow(b, s, t)]\n",
    "    else:\n",
    "        flows += [nf.flows.MaskedAffineFlow(1 - b, s, t)]\n",
    "flows += [CoordinateTransform(training_data, 66, z_matrix, backbone_indices)]\n",
    "\n",
    "# Set prior and q0\n",
    "prior = Boltzmann(implicit_sim.context, temperature)\n",
    "q0 = nf.distributions.DiagGaussian(latent_size)\n",
    "\n",
    "# Construct flow model\n",
    "nfm = nf.NormalizingFlow(q0=q0, flows=flows, p=prior)\n",
    "\n",
    "# Move model on GPU if available\n",
    "enable_cuda = False\n",
    "device = torch.device('cuda' if torch.cuda.is_available() and enable_cuda else 'cpu')\n",
    "nfm = nfm.to(device)\n",
    "nfm = nfm.double()"
   ]
  },
  {
   "cell_type": "code",
   "execution_count": 5,
   "metadata": {},
   "outputs": [
    {
     "name": "stderr",
     "output_type": "stream",
     "text": [
      "100%|██████████| 1000/1000 [00:19<00:00, 50.93it/s]\n"
     ]
    }
   ],
   "source": [
    "# Train model\n",
    "max_iter = 1000\n",
    "batch_size = 64\n",
    "num_samples = 2 * 15\n",
    "n_data = len(training_data)\n",
    "\n",
    "\n",
    "loss_hist = np.array([])\n",
    "\n",
    "optimizer = torch.optim.Adam(nfm.parameters(), lr=1e-5, weight_decay=1e-4)\n",
    "for it in tqdm(range(max_iter)):\n",
    "    optimizer.zero_grad()\n",
    "    ind = torch.randint(n_data, (batch_size, ))\n",
    "    x = training_data[ind, :].double()\n",
    "    loss = nfm.forward_kld(x) #+ nfm.reverse_kld(num_samples=batch_size)\n",
    "    loss.backward()\n",
    "    optimizer.step()\n",
    "    \n",
    "    loss_hist = np.append(loss_hist, loss.to('cpu').data.numpy())"
   ]
  },
  {
   "cell_type": "code",
   "execution_count": 6,
   "metadata": {},
   "outputs": [
    {
     "data": {
      "text/plain": [
       "[<matplotlib.lines.Line2D at 0x7f3230056b70>]"
      ]
     },
     "execution_count": 6,
     "metadata": {},
     "output_type": "execute_result"
    },
    {
     "data": {
      "image/png": "[encoded data removed]",
      "text/plain": [
       "<Figure size 432x288 with 1 Axes>"
      ]
     },
     "metadata": {
      "needs_background": "light"
     },
     "output_type": "display_data"
    }
   ],
   "source": [
    "plt.plot(loss_hist)"
   ]
  },
  {
   "cell_type": "code",
   "execution_count": 10,
   "metadata": {},
   "outputs": [
    {
     "data": {
      "text/plain": [
       "tensor([[-2082.1267],\n",
       "        [-1556.9872],\n",
       "        [-1586.7352],\n",
       "        [ -723.6367],\n",
       "        [-1453.6923],\n",
       "        [-2459.8137],\n",
       "        [-1034.8506],\n",
       "        [-1350.1493],\n",
       "        [-2028.2798],\n",
       "        [-1275.2727]])"
      ]
     },
     "execution_count": 10,
     "metadata": {},
     "output_type": "execute_result"
    }
   ],
   "source": [
    "prior.log_prob(torch.randn(10, 66))"
   ]
  },
  {
   "cell_type": "code",
   "execution_count": null,
   "metadata": {},
   "outputs": [],
   "source": []
  }
 ],
 "metadata": {
  "kernelspec": {
   "display_name": "Python 3",
   "language": "python",
   "name": "python3"
  },
  "language_info": {
   "codemirror_mode": {
    "name": "ipython",
    "version": 3
   },
   "file_extension": ".py",
   "mimetype": "text/x-python",
   "name": "python",
   "nbconvert_exporter": "python",
   "pygments_lexer": "ipython3",
   "version": "3.6.10"
  }
 },
 "nbformat": 4,
 "nbformat_minor": 4
}
