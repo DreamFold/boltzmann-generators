{
 "cells": [
  {
   "cell_type": "markdown",
   "metadata": {},
   "source": [
    "# Compute gradient of OpenMM potenials"
   ]
  },
  {
   "cell_type": "code",
   "execution_count": null,
   "metadata": {},
   "outputs": [],
   "source": [
    "# Import packages\n",
    "import torch\n",
    "from autograd import grad\n",
    "from autograd import numpy as np\n",
    "from openmmtools.constants import kB\n",
    "from simtk import openmm as mm\n",
    "from simtk import unit\n",
    "from simtk.openmm import app\n",
    "from openmmtools.testsystems import AlanineDipeptideImplicit\n",
    "\n",
    "import boltzgen.openmm_interface as omi"
   ]
  },
  {
   "cell_type": "code",
   "execution_count": null,
   "metadata": {},
   "outputs": [],
   "source": [
    "# Set up simulation object\n",
    "temperature = 298\n",
    "kT = kB * temperature\n",
    "\n",
    "testsystem = AlanineDipeptideImplicit()\n",
    "implicit_sim = app.Simulation(testsystem.topology,\n",
    "                              testsystem.system,\n",
    "                              mm.LangevinIntegrator(temperature * unit.kelvin , 1.0 / unit.picosecond, 1.0 * unit.femtosecond),\n",
    "                              platform=mm.Platform.getPlatformByName('CPU')\n",
    "                              )\n",
    "implicit_sim.context.setPositions(testsystem.positions)"
   ]
  },
  {
   "cell_type": "code",
   "execution_count": null,
   "metadata": {},
   "outputs": [],
   "source": [
    "openmm_energy = omi.OpenMMEnergyInterface.apply"
   ]
  },
  {
   "cell_type": "code",
   "execution_count": null,
   "metadata": {},
   "outputs": [],
   "source": [
    "pos = torch.tensor(np.array(testsystem.positions)[None, ...], requires_grad=True)"
   ]
  },
  {
   "cell_type": "code",
   "execution_count": null,
   "metadata": {},
   "outputs": [],
   "source": [
    "E = openmm_energy(pos, implicit_sim.context, temperature)"
   ]
  },
  {
   "cell_type": "code",
   "execution_count": null,
   "metadata": {},
   "outputs": [],
   "source": [
    "E.backward()\n",
    "print(pos.grad)"
   ]
  },
  {
   "cell_type": "code",
   "execution_count": null,
   "metadata": {},
   "outputs": [],
   "source": [
    "# Check whether element [0, 0, 0] is equal to the numerical grad\n",
    "h = 1e-4\n",
    "pos[0, 0, 0] = pos[0, 0, 0] - h\n",
    "E1 = openmm_energy(pos, implicit_sim.context, temperature)\n",
    "pos[0, 0, 0] = pos[0, 0, 0] + 2 * h\n",
    "E2 = openmm_energy(pos, implicit_sim.context, temperature)\n",
    "pos[0, 0, 0] = pos[0, 0, 0] - h\n",
    "print((E2 - E1) / (2 * h))"
   ]
  }
 ],
 "metadata": {
  "kernelspec": {
   "display_name": "Python 3",
   "language": "python",
   "name": "python3"
  },
  "language_info": {
   "codemirror_mode": {
    "name": "ipython",
    "version": 3
   },
   "file_extension": ".py",
   "mimetype": "text/x-python",
   "name": "python",
   "nbconvert_exporter": "python",
   "pygments_lexer": "ipython3",
   "version": "3.6.10"
  }
 },
 "nbformat": 4,
 "nbformat_minor": 4
}
